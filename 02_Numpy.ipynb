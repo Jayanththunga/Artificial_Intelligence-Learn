{
 "cells": [
  {
   "cell_type": "code",
   "execution_count": 1,
   "metadata": {},
   "outputs": [],
   "source": [
    "# imports:\n",
    "import numpy as np"
   ]
  },
  {
   "cell_type": "code",
   "execution_count": 2,
   "metadata": {},
   "outputs": [
    {
     "name": "stdout",
     "output_type": "stream",
     "text": [
      "[1 2 3 4 5]\n",
      "1\n"
     ]
    }
   ],
   "source": [
    "arr = np.array([1,2,3,4,5])\n",
    "print(arr)\n",
    "print(arr.ndim)"
   ]
  },
  {
   "cell_type": "code",
   "execution_count": 3,
   "metadata": {},
   "outputs": [
    {
     "name": "stdout",
     "output_type": "stream",
     "text": [
      "[10 11 12 13 14 15 16 17 18 19]\n",
      "[10 12 14 16 18 20 22 24 26 28]\n",
      "[10. 15. 20. 25. 30.]\n"
     ]
    }
   ],
   "source": [
    "# steps and line-spaces\n",
    "arr = np.arange(10, 20)\n",
    "print(arr)\n",
    "\n",
    "step = np.arange(10, 30, 2)\n",
    "print(step)\n",
    "\n",
    "linespace = np.linspace(10, 30, 5)\n",
    "print(linespace)\n"
   ]
  },
  {
   "cell_type": "code",
   "execution_count": 4,
   "metadata": {},
   "outputs": [
    {
     "name": "stdout",
     "output_type": "stream",
     "text": [
      "5 0\n"
     ]
    }
   ],
   "source": [
    "# Argmax and Argmin ----> gives index\n",
    "arr = np.array([10, 30, 25, 11, 67, 91, 15, 12, 21])\n",
    "print(arr.argmax(), arr.argmin())"
   ]
  },
  {
   "cell_type": "code",
   "execution_count": 5,
   "metadata": {},
   "outputs": [
    {
     "name": "stdout",
     "output_type": "stream",
     "text": [
      "[[10 20 30 40 50]\n",
      " [61 72 38 19 10]\n",
      " [11 12 13 14 15]]\n"
     ]
    }
   ],
   "source": [
    "# n-dim:\n",
    "_2d = np.array([[10,20,30,40,50],\n",
    "                [61,72,38,19,10],\n",
    "                [11,12,13,14,15]])\n",
    "\n",
    "print(_2d)\n"
   ]
  },
  {
   "cell_type": "code",
   "execution_count": 6,
   "metadata": {},
   "outputs": [
    {
     "name": "stdout",
     "output_type": "stream",
     "text": [
      "[[ 0  1  2  3]\n",
      " [ 4  5  6  7]\n",
      " [ 8  9 10 11]\n",
      " [12 13 14 15]]\n",
      "\n",
      "\n",
      "[[[ 0  1]\n",
      "  [ 2  3]\n",
      "  [ 4  5]\n",
      "  [ 6  7]]\n",
      "\n",
      " [[ 8  9]\n",
      "  [10 11]\n",
      "  [12 13]\n",
      "  [14 15]]]\n"
     ]
    }
   ],
   "source": [
    "# reshaping 1d to nd:\n",
    "array = np.arange(0,16)\n",
    "_2d = array.reshape(4,4)\n",
    "_3d = array.reshape(2,4,2)\n",
    "\n",
    "print(_2d)\n",
    "print(\"\\n\")\n",
    "print(_3d)"
   ]
  },
  {
   "cell_type": "code",
   "execution_count": 7,
   "metadata": {},
   "outputs": [
    {
     "name": "stdout",
     "output_type": "stream",
     "text": [
      "[0.84817113 0.7278782  0.68711121 0.64986719 0.51917069]\n",
      "[[-1.01400995 -0.62935905 -0.48656564]\n",
      " [-1.18990683  0.58277598 -1.03175258]]\n"
     ]
    }
   ],
   "source": [
    "# Generaring random values:\n",
    "\n",
    "arr = np.random.rand(5)\n",
    "print(arr)\n",
    "\n",
    "arr2 = np.random.randn(2,3)\n",
    "print(arr2)"
   ]
  },
  {
   "cell_type": "code",
   "execution_count": 8,
   "metadata": {},
   "outputs": [
    {
     "name": "stdout",
     "output_type": "stream",
     "text": [
      "[-0.16467285 -0.31762156 -0.37525912 -0.43098727 -0.65552257]\n",
      "[0.92096207 0.85315778 0.82892172 0.8061434  0.720535  ]\n",
      "10\n"
     ]
    }
   ],
   "source": [
    "print(np.log(arr))\n",
    "print(np.sqrt(arr))\n",
    "print(np.abs(-10))"
   ]
  },
  {
   "cell_type": "code",
   "execution_count": null,
   "metadata": {},
   "outputs": [],
   "source": []
  }
 ],
 "metadata": {
  "kernelspec": {
   "display_name": "Python 3",
   "language": "python",
   "name": "python3"
  },
  "language_info": {
   "codemirror_mode": {
    "name": "ipython",
    "version": 3
   },
   "file_extension": ".py",
   "mimetype": "text/x-python",
   "name": "python",
   "nbconvert_exporter": "python",
   "pygments_lexer": "ipython3",
   "version": "3.10.6"
  },
  "orig_nbformat": 4
 },
 "nbformat": 4,
 "nbformat_minor": 2
}
