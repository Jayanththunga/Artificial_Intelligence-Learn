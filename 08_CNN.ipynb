{
 "cells": [
  {
   "attachments": {},
   "cell_type": "markdown",
   "metadata": {},
   "source": [
    "# CNN - model for Animal classification"
   ]
  },
  {
   "cell_type": "code",
   "execution_count": 1,
   "metadata": {},
   "outputs": [],
   "source": [
    "import zipfile\n",
    "\n",
    "with zipfile.ZipFile('DataSets/Animal_Dataset.zip', 'r') as zip_ref:\n",
    "    zip_ref.extractall('DataSets/Animal_Dataset')"
   ]
  },
  {
   "attachments": {},
   "cell_type": "markdown",
   "metadata": {},
   "source": [
    "### Data Augumentation"
   ]
  },
  {
   "cell_type": "code",
   "execution_count": 2,
   "metadata": {},
   "outputs": [
    {
     "name": "stderr",
     "output_type": "stream",
     "text": [
      "C:\\Users\\Jayanth\\AppData\\Roaming\\Python\\Python310\\site-packages\\requests\\__init__.py:102: RequestsDependencyWarning: urllib3 (1.26.9) or chardet (5.0.0)/charset_normalizer (2.0.12) doesn't match a supported version!\n",
      "  warnings.warn(\"urllib3 ({}) or chardet ({})/charset_normalizer ({}) doesn't match a supported \"\n"
     ]
    }
   ],
   "source": [
    "from tensorflow.keras.preprocessing.image import ImageDataGenerator"
   ]
  },
  {
   "cell_type": "code",
   "execution_count": 3,
   "metadata": {},
   "outputs": [],
   "source": [
    "train_gen = ImageDataGenerator(rescale=(1./255), horizontal_flip=True, shear_range=0.2)\n",
    "test_gen = ImageDataGenerator(rescale=(1./255))"
   ]
  },
  {
   "cell_type": "code",
   "execution_count": 4,
   "metadata": {},
   "outputs": [
    {
     "name": "stdout",
     "output_type": "stream",
     "text": [
      "Found 1238 images belonging to 4 classes.\n",
      "Found 326 images belonging to 4 classes.\n"
     ]
    }
   ],
   "source": [
    "train = train_gen.flow_from_directory('DataSets\\Animal_Dataset\\dataset\\Training', target_size=(240, 240), batch_size=8, class_mode='categorical')\n",
    "test = train_gen.flow_from_directory('DataSets\\Animal_Dataset\\dataset\\Testing', target_size=(240, 240), batch_size=8, class_mode='categorical')"
   ]
  },
  {
   "cell_type": "code",
   "execution_count": 5,
   "metadata": {},
   "outputs": [
    {
     "data": {
      "text/plain": [
       "{'bears': 0, 'crows': 1, 'elephants': 2, 'rats': 3}"
      ]
     },
     "execution_count": 5,
     "metadata": {},
     "output_type": "execute_result"
    }
   ],
   "source": [
    "train.class_indices"
   ]
  },
  {
   "attachments": {},
   "cell_type": "markdown",
   "metadata": {},
   "source": [
    "### CNN - Model"
   ]
  },
  {
   "cell_type": "code",
   "execution_count": 6,
   "metadata": {},
   "outputs": [],
   "source": [
    "from tensorflow.keras.layers import Convolution2D, MaxPooling2D, Flatten, Dense\n",
    "from tensorflow.keras.models import Sequential"
   ]
  },
  {
   "cell_type": "code",
   "execution_count": 7,
   "metadata": {},
   "outputs": [],
   "source": [
    "model = Sequential()"
   ]
  },
  {
   "cell_type": "code",
   "execution_count": 8,
   "metadata": {},
   "outputs": [],
   "source": [
    "# add layers:\n",
    "\n",
    "# conv-layer:\n",
    "model.add(Convolution2D(20, (3,3), activation='relu', input_shape=(240, 240, 3)))\n",
    "# pooling-layer:\n",
    "model.add(MaxPooling2D(pool_size=(2,2)))\n",
    "# Flatten-layer:\n",
    "model.add(Flatten())\n",
    "# Fully-Connected-Layer(ANN):\n",
    "model.add(Dense(54, activation='relu'))\n",
    "model.add(Dense(27, activation='relu'))\n",
    "\n",
    "model.add(Dense(4, activation='softmax'))"
   ]
  },
  {
   "cell_type": "code",
   "execution_count": 9,
   "metadata": {},
   "outputs": [],
   "source": [
    "# compile:\n",
    "model.compile(optimizer='adam', loss='categorical_crossentropy', metrics=['accuracy'])"
   ]
  },
  {
   "cell_type": "code",
   "execution_count": 10,
   "metadata": {},
   "outputs": [
    {
     "name": "stdout",
     "output_type": "stream",
     "text": [
      "Epoch 1/10\n",
      "155/155 [==============================] - 54s 348ms/step - loss: 1.5950 - accuracy: 0.4475 - val_loss: 0.9470 - val_accuracy: 0.5890\n",
      "Epoch 2/10\n",
      "155/155 [==============================] - 44s 285ms/step - loss: 0.7497 - accuracy: 0.7173 - val_loss: 0.4023 - val_accuracy: 0.9294\n",
      "Epoch 3/10\n",
      "155/155 [==============================] - 61s 391ms/step - loss: 0.3326 - accuracy: 0.9087 - val_loss: 0.1029 - val_accuracy: 0.9847\n",
      "Epoch 4/10\n",
      "155/155 [==============================] - 55s 357ms/step - loss: 0.1226 - accuracy: 0.9701 - val_loss: 0.0806 - val_accuracy: 0.9847\n",
      "Epoch 5/10\n",
      "155/155 [==============================] - 52s 332ms/step - loss: 0.1229 - accuracy: 0.9693 - val_loss: 0.0352 - val_accuracy: 0.9969\n",
      "Epoch 6/10\n",
      "155/155 [==============================] - 43s 279ms/step - loss: 0.0687 - accuracy: 0.9830 - val_loss: 0.0110 - val_accuracy: 1.0000\n",
      "Epoch 7/10\n",
      "155/155 [==============================] - 42s 268ms/step - loss: 0.0423 - accuracy: 0.9887 - val_loss: 0.0521 - val_accuracy: 0.9969\n",
      "Epoch 8/10\n",
      "155/155 [==============================] - 40s 257ms/step - loss: 0.0462 - accuracy: 0.9935 - val_loss: 0.1531 - val_accuracy: 0.9387\n",
      "Epoch 9/10\n",
      "155/155 [==============================] - 40s 256ms/step - loss: 0.0477 - accuracy: 0.9903 - val_loss: 0.0188 - val_accuracy: 0.9969\n",
      "Epoch 10/10\n",
      "155/155 [==============================] - 38s 244ms/step - loss: 0.0465 - accuracy: 0.9943 - val_loss: 0.0257 - val_accuracy: 0.9969\n"
     ]
    },
    {
     "data": {
      "text/plain": [
       "<keras.callbacks.History at 0x2bae4cb5270>"
      ]
     },
     "execution_count": 10,
     "metadata": {},
     "output_type": "execute_result"
    }
   ],
   "source": [
    "# training the model:\n",
    "model.fit(train, epochs=10, batch_size=8, validation_data=test)"
   ]
  },
  {
   "cell_type": "code",
   "execution_count": 11,
   "metadata": {},
   "outputs": [],
   "source": [
    "model.save('Models/animalclassify.h5')"
   ]
  },
  {
   "cell_type": "code",
   "execution_count": 12,
   "metadata": {},
   "outputs": [],
   "source": [
    "# Testing:\n",
    "\n",
    "import numpy as np\n",
    "from tensorflow.keras.preprocessing import image"
   ]
  },
  {
   "cell_type": "code",
   "execution_count": 13,
   "metadata": {},
   "outputs": [],
   "source": [
    "# for testing we need to pre-process the image:\n",
    "output = ['bear', 'crow', 'elephant', 'rat']\n",
    "def imageprocessm(str):\n",
    "    img = image.load_img(str, target_size=(240, 240))\n",
    "    img = image.img_to_array(img)\n",
    "    img = np.expand_dims(img, axis=0)\n",
    "    return img"
   ]
  },
  {
   "cell_type": "code",
   "execution_count": 14,
   "metadata": {},
   "outputs": [
    {
     "data": {
      "text/plain": [
       "'elephant'"
      ]
     },
     "execution_count": 14,
     "metadata": {},
     "output_type": "execute_result"
    }
   ],
   "source": [
    "img = imageprocessm('DataSets/AnimalPredict/bear.jpg')\n",
    "output[np.argmax(model.predict(img))]"
   ]
  },
  {
   "cell_type": "code",
   "execution_count": 15,
   "metadata": {},
   "outputs": [
    {
     "data": {
      "text/plain": [
       "'elephant'"
      ]
     },
     "execution_count": 15,
     "metadata": {},
     "output_type": "execute_result"
    }
   ],
   "source": [
    "img = imageprocessm('DataSets/AnimalPredict/elephant.jpg')\n",
    "output[np.argmax(model.predict(img))]"
   ]
  },
  {
   "cell_type": "code",
   "execution_count": 16,
   "metadata": {},
   "outputs": [
    {
     "data": {
      "text/plain": [
       "'elephant'"
      ]
     },
     "execution_count": 16,
     "metadata": {},
     "output_type": "execute_result"
    }
   ],
   "source": [
    "img = imageprocessm('DataSets/AnimalPredict/rat.jpg')\n",
    "output[np.argmax(model.predict(img))]"
   ]
  },
  {
   "cell_type": "code",
   "execution_count": 17,
   "metadata": {},
   "outputs": [
    {
     "data": {
      "text/plain": [
       "'elephant'"
      ]
     },
     "execution_count": 17,
     "metadata": {},
     "output_type": "execute_result"
    }
   ],
   "source": [
    "img = imageprocessm('DataSets/AnimalPredict/crow.jpg')\n",
    "output[np.argmax(model.predict(img))]"
   ]
  }
 ],
 "metadata": {
  "kernelspec": {
   "display_name": "Python 3",
   "language": "python",
   "name": "python3"
  },
  "language_info": {
   "codemirror_mode": {
    "name": "ipython",
    "version": 3
   },
   "file_extension": ".py",
   "mimetype": "text/x-python",
   "name": "python",
   "nbconvert_exporter": "python",
   "pygments_lexer": "ipython3",
   "version": "3.10.6"
  },
  "orig_nbformat": 4
 },
 "nbformat": 4,
 "nbformat_minor": 2
}
