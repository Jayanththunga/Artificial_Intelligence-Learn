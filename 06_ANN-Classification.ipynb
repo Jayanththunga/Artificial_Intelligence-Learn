{
 "cells": [
  {
   "attachments": {},
   "cell_type": "markdown",
   "metadata": {},
   "source": [
    "## Creating a ANN - Classification model used to predict iris species"
   ]
  },
  {
   "cell_type": "code",
   "execution_count": 1,
   "metadata": {},
   "outputs": [],
   "source": [
    "import numpy as np\n",
    "import pandas as pd"
   ]
  },
  {
   "cell_type": "code",
   "execution_count": 2,
   "metadata": {},
   "outputs": [
    {
     "data": {
      "text/html": [
       "<div>\n",
       "<style scoped>\n",
       "    .dataframe tbody tr th:only-of-type {\n",
       "        vertical-align: middle;\n",
       "    }\n",
       "\n",
       "    .dataframe tbody tr th {\n",
       "        vertical-align: top;\n",
       "    }\n",
       "\n",
       "    .dataframe thead th {\n",
       "        text-align: right;\n",
       "    }\n",
       "</style>\n",
       "<table border=\"1\" class=\"dataframe\">\n",
       "  <thead>\n",
       "    <tr style=\"text-align: right;\">\n",
       "      <th></th>\n",
       "      <th>Id</th>\n",
       "      <th>SepalLengthCm</th>\n",
       "      <th>SepalWidthCm</th>\n",
       "      <th>PetalLengthCm</th>\n",
       "      <th>PetalWidthCm</th>\n",
       "      <th>Species</th>\n",
       "    </tr>\n",
       "  </thead>\n",
       "  <tbody>\n",
       "    <tr>\n",
       "      <th>0</th>\n",
       "      <td>1</td>\n",
       "      <td>5.1</td>\n",
       "      <td>3.5</td>\n",
       "      <td>1.4</td>\n",
       "      <td>0.2</td>\n",
       "      <td>Iris-setosa</td>\n",
       "    </tr>\n",
       "    <tr>\n",
       "      <th>1</th>\n",
       "      <td>2</td>\n",
       "      <td>4.9</td>\n",
       "      <td>3.0</td>\n",
       "      <td>1.4</td>\n",
       "      <td>0.2</td>\n",
       "      <td>Iris-setosa</td>\n",
       "    </tr>\n",
       "  </tbody>\n",
       "</table>\n",
       "</div>"
      ],
      "text/plain": [
       "   Id  SepalLengthCm  SepalWidthCm  PetalLengthCm  PetalWidthCm      Species\n",
       "0   1            5.1           3.5            1.4           0.2  Iris-setosa\n",
       "1   2            4.9           3.0            1.4           0.2  Iris-setosa"
      ]
     },
     "execution_count": 2,
     "metadata": {},
     "output_type": "execute_result"
    }
   ],
   "source": [
    "df = pd.read_csv('DataSets/Iris.csv')\n",
    "df.head(2)"
   ]
  },
  {
   "attachments": {},
   "cell_type": "markdown",
   "metadata": {},
   "source": [
    "#### Data preprocessing"
   ]
  },
  {
   "cell_type": "code",
   "execution_count": 3,
   "metadata": {},
   "outputs": [
    {
     "data": {
      "text/plain": [
       "0"
      ]
     },
     "execution_count": 3,
     "metadata": {},
     "output_type": "execute_result"
    }
   ],
   "source": [
    "df.isnull().all().sum()"
   ]
  },
  {
   "cell_type": "code",
   "execution_count": 4,
   "metadata": {},
   "outputs": [
    {
     "data": {
      "text/plain": [
       "Iris-setosa        50\n",
       "Iris-versicolor    50\n",
       "Iris-virginica     50\n",
       "Name: Species, dtype: int64"
      ]
     },
     "execution_count": 4,
     "metadata": {},
     "output_type": "execute_result"
    }
   ],
   "source": [
    "df.Species.value_counts()"
   ]
  },
  {
   "attachments": {},
   "cell_type": "markdown",
   "metadata": {},
   "source": [
    "#### Encoding - Species"
   ]
  },
  {
   "cell_type": "code",
   "execution_count": 5,
   "metadata": {},
   "outputs": [
    {
     "name": "stdout",
     "output_type": "stream",
     "text": [
      "['Iris-setosa' 'Iris-versicolor' 'Iris-virginica']\n",
      "[0 1 2]\n"
     ]
    }
   ],
   "source": [
    "from sklearn.preprocessing import LabelEncoder\n",
    "le = LabelEncoder()\n",
    "print(df.Species.unique())\n",
    "df['Species'] = le.fit_transform(df['Species'])\n",
    "print(df.Species.unique())"
   ]
  },
  {
   "attachments": {},
   "cell_type": "markdown",
   "metadata": {},
   "source": [
    "#### Splitting Data "
   ]
  },
  {
   "cell_type": "code",
   "execution_count": 6,
   "metadata": {},
   "outputs": [
    {
     "name": "stdout",
     "output_type": "stream",
     "text": [
      "   SepalLengthCm  SepalWidthCm  PetalLengthCm  PetalWidthCm\n",
      "0            5.1           3.5            1.4           0.2\n",
      "1            4.9           3.0            1.4           0.2\n",
      "   Species\n",
      "0        0\n",
      "1        0\n"
     ]
    }
   ],
   "source": [
    "# x and y:\n",
    "\n",
    "x = df.iloc[:,1:5]\n",
    "y = df.iloc[:,5:6]\n",
    "print(x.head(2))\n",
    "print(y.head(2))"
   ]
  },
  {
   "cell_type": "code",
   "execution_count": 7,
   "metadata": {},
   "outputs": [
    {
     "data": {
      "text/plain": [
       "((120, 4), (30, 4), (120, 1), (30, 1))"
      ]
     },
     "execution_count": 7,
     "metadata": {},
     "output_type": "execute_result"
    }
   ],
   "source": [
    "# train and test:\n",
    "\n",
    "from sklearn.model_selection import train_test_split\n",
    "xtrain, xtest, ytrain, ytest = train_test_split(x, y, test_size=0.2, random_state=10)\n",
    "\n",
    "xtrain.shape, xtest.shape, ytrain.shape, ytest.shape"
   ]
  },
  {
   "attachments": {},
   "cell_type": "markdown",
   "metadata": {},
   "source": [
    "#### Creating ANN model:"
   ]
  },
  {
   "cell_type": "code",
   "execution_count": 8,
   "metadata": {},
   "outputs": [
    {
     "name": "stderr",
     "output_type": "stream",
     "text": [
      "C:\\Users\\Jayanth\\AppData\\Roaming\\Python\\Python310\\site-packages\\requests\\__init__.py:102: RequestsDependencyWarning: urllib3 (1.26.9) or chardet (5.0.0)/charset_normalizer (2.0.12) doesn't match a supported version!\n",
      "  warnings.warn(\"urllib3 ({}) or chardet ({})/charset_normalizer ({}) doesn't match a supported \"\n"
     ]
    }
   ],
   "source": [
    "from tensorflow.keras.models import Sequential\n",
    "from tensorflow.keras.layers import Dense"
   ]
  },
  {
   "cell_type": "code",
   "execution_count": 9,
   "metadata": {},
   "outputs": [],
   "source": [
    "model = Sequential()"
   ]
  },
  {
   "cell_type": "code",
   "execution_count": 10,
   "metadata": {},
   "outputs": [],
   "source": [
    "model.add(Dense(4, activation='relu'))\n",
    "\n",
    "model.add(Dense(27, activation='relu'))\n",
    "model.add(Dense(81, activation='relu'))\n",
    "model.add(Dense(135, activation='relu'))\n",
    "\n",
    "model.add(Dense(3, activation='softmax'))"
   ]
  },
  {
   "cell_type": "code",
   "execution_count": 11,
   "metadata": {},
   "outputs": [],
   "source": [
    "model.compile(optimizer='adam', loss='sparse_categorical_crossentropy', metrics=['accuracy'])"
   ]
  },
  {
   "cell_type": "code",
   "execution_count": 12,
   "metadata": {},
   "outputs": [
    {
     "name": "stdout",
     "output_type": "stream",
     "text": [
      "Epoch 1/20\n",
      "24/24 [==============================] - 1s 9ms/step - loss: 1.0125 - accuracy: 0.3417 - val_loss: 0.9831 - val_accuracy: 0.5333\n",
      "Epoch 2/20\n",
      "24/24 [==============================] - 0s 4ms/step - loss: 0.8930 - accuracy: 0.6917 - val_loss: 0.9111 - val_accuracy: 0.5333\n",
      "Epoch 3/20\n",
      "24/24 [==============================] - 0s 3ms/step - loss: 0.7620 - accuracy: 0.6917 - val_loss: 0.7077 - val_accuracy: 0.5667\n",
      "Epoch 4/20\n",
      "24/24 [==============================] - 0s 3ms/step - loss: 0.6180 - accuracy: 0.7417 - val_loss: 0.5751 - val_accuracy: 0.5667\n",
      "Epoch 5/20\n",
      "24/24 [==============================] - 0s 2ms/step - loss: 0.5023 - accuracy: 0.7167 - val_loss: 0.4631 - val_accuracy: 0.7667\n",
      "Epoch 6/20\n",
      "24/24 [==============================] - 0s 5ms/step - loss: 0.4661 - accuracy: 0.7250 - val_loss: 0.4212 - val_accuracy: 0.9667\n",
      "Epoch 7/20\n",
      "24/24 [==============================] - 0s 3ms/step - loss: 0.3835 - accuracy: 0.8000 - val_loss: 0.3924 - val_accuracy: 0.9667\n",
      "Epoch 8/20\n",
      "24/24 [==============================] - 0s 3ms/step - loss: 0.3630 - accuracy: 0.8500 - val_loss: 0.3477 - val_accuracy: 0.9667\n",
      "Epoch 9/20\n",
      "24/24 [==============================] - 0s 3ms/step - loss: 0.3007 - accuracy: 0.9500 - val_loss: 0.3535 - val_accuracy: 0.8000\n",
      "Epoch 10/20\n",
      "24/24 [==============================] - 0s 3ms/step - loss: 0.2565 - accuracy: 0.9333 - val_loss: 0.6656 - val_accuracy: 0.5667\n",
      "Epoch 11/20\n",
      "24/24 [==============================] - 0s 3ms/step - loss: 0.2691 - accuracy: 0.8583 - val_loss: 0.2213 - val_accuracy: 0.9667\n",
      "Epoch 12/20\n",
      "24/24 [==============================] - 0s 3ms/step - loss: 0.2538 - accuracy: 0.8583 - val_loss: 0.2219 - val_accuracy: 0.9667\n",
      "Epoch 13/20\n",
      "24/24 [==============================] - 0s 2ms/step - loss: 0.2120 - accuracy: 0.9417 - val_loss: 0.1740 - val_accuracy: 0.9667\n",
      "Epoch 14/20\n",
      "24/24 [==============================] - 0s 2ms/step - loss: 0.1835 - accuracy: 0.9500 - val_loss: 0.2497 - val_accuracy: 0.9333\n",
      "Epoch 15/20\n",
      "24/24 [==============================] - 0s 3ms/step - loss: 0.1363 - accuracy: 0.9667 - val_loss: 0.2300 - val_accuracy: 0.9667\n",
      "Epoch 16/20\n",
      "24/24 [==============================] - 0s 2ms/step - loss: 0.1706 - accuracy: 0.9417 - val_loss: 0.1345 - val_accuracy: 0.9667\n",
      "Epoch 17/20\n",
      "24/24 [==============================] - 0s 4ms/step - loss: 0.2256 - accuracy: 0.8667 - val_loss: 0.1561 - val_accuracy: 0.9667\n",
      "Epoch 18/20\n",
      "24/24 [==============================] - 0s 3ms/step - loss: 0.1279 - accuracy: 0.9500 - val_loss: 0.1422 - val_accuracy: 0.9667\n",
      "Epoch 19/20\n",
      "24/24 [==============================] - 0s 2ms/step - loss: 0.1997 - accuracy: 0.8833 - val_loss: 0.4142 - val_accuracy: 0.7333\n",
      "Epoch 20/20\n",
      "24/24 [==============================] - 0s 3ms/step - loss: 0.1424 - accuracy: 0.9333 - val_loss: 0.1461 - val_accuracy: 0.9667\n"
     ]
    },
    {
     "data": {
      "text/plain": [
       "<keras.callbacks.History at 0x23e1809aa70>"
      ]
     },
     "execution_count": 12,
     "metadata": {},
     "output_type": "execute_result"
    }
   ],
   "source": [
    "model.fit(xtrain, ytrain,batch_size=5 ,epochs=20, validation_data=(xtest, ytest))"
   ]
  },
  {
   "cell_type": "code",
   "execution_count": 13,
   "metadata": {},
   "outputs": [],
   "source": [
    "model.save('Models/iris-pred.h5')"
   ]
  },
  {
   "cell_type": "code",
   "execution_count": 16,
   "metadata": {},
   "outputs": [
    {
     "name": "stdout",
     "output_type": "stream",
     "text": [
      "[[9.8870414e-01 1.1295447e-02 3.0926273e-07]]\n"
     ]
    },
    {
     "data": {
      "text/plain": [
       "'Iris-setosa'"
      ]
     },
     "execution_count": 16,
     "metadata": {},
     "output_type": "execute_result"
    }
   ],
   "source": [
    "# pred-new:\n",
    "\n",
    "pred = model.predict([[2.1, 7.5, 4.2,0.5]])\n",
    "print(pred)\n",
    "\n",
    "max = np.argmax(pred)\n",
    "output = ['Iris-setosa','Iris-versicolor','Iris-virginica']\n",
    "output[max]"
   ]
  },
  {
   "cell_type": "code",
   "execution_count": 15,
   "metadata": {},
   "outputs": [
    {
     "name": "stdout",
     "output_type": "stream",
     "text": [
      "[[5.1558032e-05 1.1725781e-01 8.8269061e-01]]\n"
     ]
    },
    {
     "data": {
      "text/plain": [
       "'Iris-virginica'"
      ]
     },
     "execution_count": 15,
     "metadata": {},
     "output_type": "execute_result"
    }
   ],
   "source": [
    "pred = model.predict([[2.5,4.34,5.3,1.3]])\n",
    "print(pred)\n",
    "\n",
    "max = np.argmax(pred)\n",
    "output = ['Iris-setosa','Iris-versicolor','Iris-virginica']\n",
    "output[max]"
   ]
  }
 ],
 "metadata": {
  "kernelspec": {
   "display_name": "Python 3",
   "language": "python",
   "name": "python3"
  },
  "language_info": {
   "codemirror_mode": {
    "name": "ipython",
    "version": 3
   },
   "file_extension": ".py",
   "mimetype": "text/x-python",
   "name": "python",
   "nbconvert_exporter": "python",
   "pygments_lexer": "ipython3",
   "version": "3.10.6"
  },
  "orig_nbformat": 4
 },
 "nbformat": 4,
 "nbformat_minor": 2
}
