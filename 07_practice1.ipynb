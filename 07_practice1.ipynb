{
 "cells": [
  {
   "cell_type": "code",
   "execution_count": 57,
   "metadata": {},
   "outputs": [],
   "source": [
    "import numpy as np\n",
    "import pandas as pd"
   ]
  },
  {
   "cell_type": "code",
   "execution_count": 58,
   "metadata": {},
   "outputs": [
    {
     "data": {
      "text/html": [
       "<div>\n",
       "<style scoped>\n",
       "    .dataframe tbody tr th:only-of-type {\n",
       "        vertical-align: middle;\n",
       "    }\n",
       "\n",
       "    .dataframe tbody tr th {\n",
       "        vertical-align: top;\n",
       "    }\n",
       "\n",
       "    .dataframe thead th {\n",
       "        text-align: right;\n",
       "    }\n",
       "</style>\n",
       "<table border=\"1\" class=\"dataframe\">\n",
       "  <thead>\n",
       "    <tr style=\"text-align: right;\">\n",
       "      <th></th>\n",
       "      <th>Age</th>\n",
       "      <th>Sex</th>\n",
       "      <th>BP</th>\n",
       "      <th>Cholesterol</th>\n",
       "      <th>Na_to_K</th>\n",
       "      <th>Drug</th>\n",
       "    </tr>\n",
       "  </thead>\n",
       "  <tbody>\n",
       "    <tr>\n",
       "      <th>0</th>\n",
       "      <td>23</td>\n",
       "      <td>F</td>\n",
       "      <td>HIGH</td>\n",
       "      <td>HIGH</td>\n",
       "      <td>25.355</td>\n",
       "      <td>DrugY</td>\n",
       "    </tr>\n",
       "    <tr>\n",
       "      <th>1</th>\n",
       "      <td>47</td>\n",
       "      <td>M</td>\n",
       "      <td>LOW</td>\n",
       "      <td>HIGH</td>\n",
       "      <td>13.093</td>\n",
       "      <td>drugC</td>\n",
       "    </tr>\n",
       "  </tbody>\n",
       "</table>\n",
       "</div>"
      ],
      "text/plain": [
       "   Age Sex    BP Cholesterol  Na_to_K   Drug\n",
       "0   23   F  HIGH        HIGH   25.355  DrugY\n",
       "1   47   M   LOW        HIGH   13.093  drugC"
      ]
     },
     "execution_count": 58,
     "metadata": {},
     "output_type": "execute_result"
    }
   ],
   "source": [
    "df = pd.read_csv('DataSets/drug-classification.csv')\n",
    "df.head(2)"
   ]
  },
  {
   "cell_type": "code",
   "execution_count": 59,
   "metadata": {},
   "outputs": [
    {
     "data": {
      "text/plain": [
       "Age            0\n",
       "Sex            0\n",
       "BP             0\n",
       "Cholesterol    0\n",
       "Na_to_K        0\n",
       "Drug           0\n",
       "dtype: int64"
      ]
     },
     "execution_count": 59,
     "metadata": {},
     "output_type": "execute_result"
    }
   ],
   "source": [
    "df.isnull().sum()"
   ]
  },
  {
   "cell_type": "code",
   "execution_count": 60,
   "metadata": {},
   "outputs": [
    {
     "data": {
      "text/plain": [
       "<AxesSubplot:>"
      ]
     },
     "execution_count": 60,
     "metadata": {},
     "output_type": "execute_result"
    },
    {
     "data": {
      "image/png": "[encoded data removed]",
      "text/plain": [
       "<Figure size 432x288 with 1 Axes>"
      ]
     },
     "metadata": {
      "needs_background": "light"
     },
     "output_type": "display_data"
    }
   ],
   "source": [
    "import seaborn as sns\n",
    "sns.boxplot(df.Na_to_K)"
   ]
  },
  {
   "cell_type": "code",
   "execution_count": 61,
   "metadata": {},
   "outputs": [
    {
     "data": {
      "text/html": [
       "<div>\n",
       "<style scoped>\n",
       "    .dataframe tbody tr th:only-of-type {\n",
       "        vertical-align: middle;\n",
       "    }\n",
       "\n",
       "    .dataframe tbody tr th {\n",
       "        vertical-align: top;\n",
       "    }\n",
       "\n",
       "    .dataframe thead th {\n",
       "        text-align: right;\n",
       "    }\n",
       "</style>\n",
       "<table border=\"1\" class=\"dataframe\">\n",
       "  <thead>\n",
       "    <tr style=\"text-align: right;\">\n",
       "      <th></th>\n",
       "      <th>age</th>\n",
       "      <th>sex</th>\n",
       "      <th>bp</th>\n",
       "      <th>cholesterol</th>\n",
       "      <th>na_to_k</th>\n",
       "      <th>drug</th>\n",
       "    </tr>\n",
       "  </thead>\n",
       "  <tbody>\n",
       "    <tr>\n",
       "      <th>0</th>\n",
       "      <td>23</td>\n",
       "      <td>f</td>\n",
       "      <td>high</td>\n",
       "      <td>high</td>\n",
       "      <td>25.355</td>\n",
       "      <td>drugy</td>\n",
       "    </tr>\n",
       "    <tr>\n",
       "      <th>1</th>\n",
       "      <td>47</td>\n",
       "      <td>m</td>\n",
       "      <td>low</td>\n",
       "      <td>high</td>\n",
       "      <td>13.093</td>\n",
       "      <td>drugc</td>\n",
       "    </tr>\n",
       "    <tr>\n",
       "      <th>2</th>\n",
       "      <td>47</td>\n",
       "      <td>m</td>\n",
       "      <td>low</td>\n",
       "      <td>high</td>\n",
       "      <td>10.114</td>\n",
       "      <td>drugc</td>\n",
       "    </tr>\n",
       "    <tr>\n",
       "      <th>3</th>\n",
       "      <td>28</td>\n",
       "      <td>f</td>\n",
       "      <td>normal</td>\n",
       "      <td>high</td>\n",
       "      <td>7.798</td>\n",
       "      <td>drugx</td>\n",
       "    </tr>\n",
       "    <tr>\n",
       "      <th>4</th>\n",
       "      <td>61</td>\n",
       "      <td>f</td>\n",
       "      <td>low</td>\n",
       "      <td>high</td>\n",
       "      <td>18.043</td>\n",
       "      <td>drugy</td>\n",
       "    </tr>\n",
       "    <tr>\n",
       "      <th>...</th>\n",
       "      <td>...</td>\n",
       "      <td>...</td>\n",
       "      <td>...</td>\n",
       "      <td>...</td>\n",
       "      <td>...</td>\n",
       "      <td>...</td>\n",
       "    </tr>\n",
       "    <tr>\n",
       "      <th>195</th>\n",
       "      <td>56</td>\n",
       "      <td>f</td>\n",
       "      <td>low</td>\n",
       "      <td>high</td>\n",
       "      <td>11.567</td>\n",
       "      <td>drugc</td>\n",
       "    </tr>\n",
       "    <tr>\n",
       "      <th>196</th>\n",
       "      <td>16</td>\n",
       "      <td>m</td>\n",
       "      <td>low</td>\n",
       "      <td>high</td>\n",
       "      <td>12.006</td>\n",
       "      <td>drugc</td>\n",
       "    </tr>\n",
       "    <tr>\n",
       "      <th>197</th>\n",
       "      <td>52</td>\n",
       "      <td>m</td>\n",
       "      <td>normal</td>\n",
       "      <td>high</td>\n",
       "      <td>9.894</td>\n",
       "      <td>drugx</td>\n",
       "    </tr>\n",
       "    <tr>\n",
       "      <th>198</th>\n",
       "      <td>23</td>\n",
       "      <td>m</td>\n",
       "      <td>normal</td>\n",
       "      <td>normal</td>\n",
       "      <td>14.020</td>\n",
       "      <td>drugx</td>\n",
       "    </tr>\n",
       "    <tr>\n",
       "      <th>199</th>\n",
       "      <td>40</td>\n",
       "      <td>f</td>\n",
       "      <td>low</td>\n",
       "      <td>normal</td>\n",
       "      <td>11.349</td>\n",
       "      <td>drugx</td>\n",
       "    </tr>\n",
       "  </tbody>\n",
       "</table>\n",
       "<p>200 rows × 6 columns</p>\n",
       "</div>"
      ],
      "text/plain": [
       "     age sex      bp cholesterol  na_to_k   drug\n",
       "0     23   f    high        high   25.355  drugy\n",
       "1     47   m     low        high   13.093  drugc\n",
       "2     47   m     low        high   10.114  drugc\n",
       "3     28   f  normal        high    7.798  drugx\n",
       "4     61   f     low        high   18.043  drugy\n",
       "..   ...  ..     ...         ...      ...    ...\n",
       "195   56   f     low        high   11.567  drugc\n",
       "196   16   m     low        high   12.006  drugc\n",
       "197   52   m  normal        high    9.894  drugx\n",
       "198   23   m  normal      normal   14.020  drugx\n",
       "199   40   f     low      normal   11.349  drugx\n",
       "\n",
       "[200 rows x 6 columns]"
      ]
     },
     "execution_count": 61,
     "metadata": {},
     "output_type": "execute_result"
    }
   ],
   "source": [
    "df.columns = df.columns.str.lower()\n",
    "df.sex = df.sex.str.lower()\n",
    "df.bp = df.bp.str.lower()\n",
    "df.cholesterol = df.cholesterol.str.lower()\n",
    "df.drug = df.drug.str.lower()\n",
    "df"
   ]
  },
  {
   "cell_type": "code",
   "execution_count": 62,
   "metadata": {},
   "outputs": [
    {
     "data": {
      "text/plain": [
       "m    104\n",
       "f     96\n",
       "Name: sex, dtype: int64"
      ]
     },
     "execution_count": 62,
     "metadata": {},
     "output_type": "execute_result"
    }
   ],
   "source": [
    "df.sex.value_counts()"
   ]
  },
  {
   "cell_type": "code",
   "execution_count": 63,
   "metadata": {},
   "outputs": [
    {
     "data": {
      "text/plain": [
       "high      77\n",
       "low       64\n",
       "normal    59\n",
       "Name: bp, dtype: int64"
      ]
     },
     "execution_count": 63,
     "metadata": {},
     "output_type": "execute_result"
    }
   ],
   "source": [
    "df.bp.value_counts()"
   ]
  },
  {
   "cell_type": "code",
   "execution_count": 64,
   "metadata": {},
   "outputs": [
    {
     "data": {
      "text/plain": [
       "high      103\n",
       "normal     97\n",
       "Name: cholesterol, dtype: int64"
      ]
     },
     "execution_count": 64,
     "metadata": {},
     "output_type": "execute_result"
    }
   ],
   "source": [
    "df.cholesterol.value_counts()"
   ]
  },
  {
   "cell_type": "code",
   "execution_count": 65,
   "metadata": {},
   "outputs": [
    {
     "data": {
      "text/plain": [
       "drugy    91\n",
       "drugx    54\n",
       "druga    23\n",
       "drugc    16\n",
       "drugb    16\n",
       "Name: drug, dtype: int64"
      ]
     },
     "execution_count": 65,
     "metadata": {},
     "output_type": "execute_result"
    }
   ],
   "source": [
    "df.drug.value_counts()"
   ]
  },
  {
   "cell_type": "code",
   "execution_count": 66,
   "metadata": {},
   "outputs": [
    {
     "name": "stdout",
     "output_type": "stream",
     "text": [
      "<bound method NDFrame._add_numeric_operations.<locals>.median of 0      25.355\n",
      "1      13.093\n",
      "2      10.114\n",
      "3       7.798\n",
      "4      18.043\n",
      "        ...  \n",
      "195    11.567\n",
      "196    12.006\n",
      "197     9.894\n",
      "198    14.020\n",
      "199    11.349\n",
      "Name: na_to_k, Length: 200, dtype: float64>\n"
     ]
    }
   ],
   "source": [
    "# outliers removal:\n",
    "\n",
    "q3 = df.na_to_k.quantile(0.75)\n",
    "q1 = df.na_to_k.quantile(0.25)\n",
    "\n",
    "iqr = q3-q1\n",
    "\n",
    "upper = q3+iqr*1.5\n",
    "median = df.na_to_k.median\n",
    "print(median)"
   ]
  },
  {
   "cell_type": "code",
   "execution_count": 67,
   "metadata": {},
   "outputs": [],
   "source": [
    "df['na_to_k'] = np.where(df['na_to_k']>upper, 25.355, df['na_to_k'])"
   ]
  },
  {
   "cell_type": "code",
   "execution_count": 68,
   "metadata": {},
   "outputs": [
    {
     "data": {
      "text/plain": [
       "dtype('float64')"
      ]
     },
     "execution_count": 68,
     "metadata": {},
     "output_type": "execute_result"
    }
   ],
   "source": [
    "df.na_to_k.dtype"
   ]
  },
  {
   "cell_type": "code",
   "execution_count": 69,
   "metadata": {},
   "outputs": [
    {
     "data": {
      "text/plain": [
       "<AxesSubplot:>"
      ]
     },
     "execution_count": 69,
     "metadata": {},
     "output_type": "execute_result"
    },
    {
     "data": {
      "image/png": "[encoded data removed]",
      "text/plain": [
       "<Figure size 432x288 with 1 Axes>"
      ]
     },
     "metadata": {
      "needs_background": "light"
     },
     "output_type": "display_data"
    }
   ],
   "source": [
    "sns.boxplot(df.na_to_k)"
   ]
  },
  {
   "cell_type": "code",
   "execution_count": 70,
   "metadata": {},
   "outputs": [
    {
     "data": {
      "text/html": [
       "<div>\n",
       "<style scoped>\n",
       "    .dataframe tbody tr th:only-of-type {\n",
       "        vertical-align: middle;\n",
       "    }\n",
       "\n",
       "    .dataframe tbody tr th {\n",
       "        vertical-align: top;\n",
       "    }\n",
       "\n",
       "    .dataframe thead th {\n",
       "        text-align: right;\n",
       "    }\n",
       "</style>\n",
       "<table border=\"1\" class=\"dataframe\">\n",
       "  <thead>\n",
       "    <tr style=\"text-align: right;\">\n",
       "      <th></th>\n",
       "      <th>age</th>\n",
       "      <th>sex</th>\n",
       "      <th>bp</th>\n",
       "      <th>cholesterol</th>\n",
       "      <th>na_to_k</th>\n",
       "      <th>drug</th>\n",
       "    </tr>\n",
       "  </thead>\n",
       "  <tbody>\n",
       "    <tr>\n",
       "      <th>0</th>\n",
       "      <td>23</td>\n",
       "      <td>f</td>\n",
       "      <td>high</td>\n",
       "      <td>high</td>\n",
       "      <td>25.355</td>\n",
       "      <td>drugy</td>\n",
       "    </tr>\n",
       "    <tr>\n",
       "      <th>1</th>\n",
       "      <td>47</td>\n",
       "      <td>m</td>\n",
       "      <td>low</td>\n",
       "      <td>high</td>\n",
       "      <td>13.093</td>\n",
       "      <td>drugc</td>\n",
       "    </tr>\n",
       "    <tr>\n",
       "      <th>2</th>\n",
       "      <td>47</td>\n",
       "      <td>m</td>\n",
       "      <td>low</td>\n",
       "      <td>high</td>\n",
       "      <td>10.114</td>\n",
       "      <td>drugc</td>\n",
       "    </tr>\n",
       "  </tbody>\n",
       "</table>\n",
       "</div>"
      ],
      "text/plain": [
       "   age sex    bp cholesterol  na_to_k   drug\n",
       "0   23   f  high        high   25.355  drugy\n",
       "1   47   m   low        high   13.093  drugc\n",
       "2   47   m   low        high   10.114  drugc"
      ]
     },
     "execution_count": 70,
     "metadata": {},
     "output_type": "execute_result"
    }
   ],
   "source": [
    "df.head(3)"
   ]
  },
  {
   "cell_type": "code",
   "execution_count": 71,
   "metadata": {},
   "outputs": [
    {
     "data": {
      "text/plain": [
       "age              int64\n",
       "sex             object\n",
       "bp              object\n",
       "cholesterol     object\n",
       "na_to_k        float64\n",
       "drug            object\n",
       "dtype: object"
      ]
     },
     "execution_count": 71,
     "metadata": {},
     "output_type": "execute_result"
    }
   ],
   "source": [
    "df.dtypes"
   ]
  },
  {
   "cell_type": "code",
   "execution_count": 72,
   "metadata": {},
   "outputs": [
    {
     "name": "stdout",
     "output_type": "stream",
     "text": [
      "['f' 'm']\n",
      "[0 1]\n",
      "['high' 'low' 'normal']\n",
      "[0 1 2]\n",
      "['high' 'normal']\n",
      "[0 1]\n",
      "['drugy' 'drugc' 'drugx' 'druga' 'drugb']\n",
      "[4 2 3 0 1]\n"
     ]
    },
    {
     "data": {
      "text/plain": [
       "age              int64\n",
       "sex              int32\n",
       "bp               int32\n",
       "cholesterol      int32\n",
       "na_to_k        float64\n",
       "drug             int32\n",
       "dtype: object"
      ]
     },
     "execution_count": 72,
     "metadata": {},
     "output_type": "execute_result"
    }
   ],
   "source": [
    "# converting objects/ Lable encoding:\n",
    "\n",
    "from sklearn.preprocessing import LabelEncoder\n",
    "\n",
    "print(df.sex.unique())\n",
    "le1 = LabelEncoder()\n",
    "df['sex'] = le1.fit_transform(df['sex'])\n",
    "print(df.sex.unique())\n",
    "\n",
    "print(df.bp.unique())\n",
    "le2= LabelEncoder()\n",
    "df['bp'] = le2.fit_transform(df['bp'])\n",
    "print(df.bp.unique())\n",
    "\n",
    "print(df.cholesterol.unique())\n",
    "le3 = LabelEncoder()\n",
    "df['cholesterol'] = le3.fit_transform(df['cholesterol'])\n",
    "print(df.cholesterol.unique())\n",
    "\n",
    "print(df.drug.unique())\n",
    "le4 = LabelEncoder()\n",
    "df['drug'] = le4.fit_transform(df['drug'])\n",
    "print(df.drug.unique())\n",
    "\n",
    "df.dtypes"
   ]
  },
  {
   "cell_type": "code",
   "execution_count": 73,
   "metadata": {},
   "outputs": [
    {
     "data": {
      "text/plain": [
       "((200, 6),\n",
       "    age  sex  bp  cholesterol  na_to_k  drug\n",
       " 0   23    0   0            0   25.355     4\n",
       " 1   47    1   1            0   13.093     2\n",
       " 2   47    1   1            0   10.114     2\n",
       " 3   28    0   2            0    7.798     3)"
      ]
     },
     "execution_count": 73,
     "metadata": {},
     "output_type": "execute_result"
    }
   ],
   "source": [
    "df.shape, df.head(4)"
   ]
  },
  {
   "cell_type": "code",
   "execution_count": 74,
   "metadata": {},
   "outputs": [],
   "source": [
    "# splitting:\n",
    "\n",
    "x = df.iloc[:, 0:5]\n",
    "y = df.iloc[:, 5:6]"
   ]
  },
  {
   "cell_type": "code",
   "execution_count": 75,
   "metadata": {},
   "outputs": [
    {
     "data": {
      "text/html": [
       "<div>\n",
       "<style scoped>\n",
       "    .dataframe tbody tr th:only-of-type {\n",
       "        vertical-align: middle;\n",
       "    }\n",
       "\n",
       "    .dataframe tbody tr th {\n",
       "        vertical-align: top;\n",
       "    }\n",
       "\n",
       "    .dataframe thead th {\n",
       "        text-align: right;\n",
       "    }\n",
       "</style>\n",
       "<table border=\"1\" class=\"dataframe\">\n",
       "  <thead>\n",
       "    <tr style=\"text-align: right;\">\n",
       "      <th></th>\n",
       "      <th>age</th>\n",
       "      <th>sex</th>\n",
       "      <th>bp</th>\n",
       "      <th>cholesterol</th>\n",
       "      <th>na_to_k</th>\n",
       "    </tr>\n",
       "  </thead>\n",
       "  <tbody>\n",
       "    <tr>\n",
       "      <th>0</th>\n",
       "      <td>23</td>\n",
       "      <td>0</td>\n",
       "      <td>0</td>\n",
       "      <td>0</td>\n",
       "      <td>25.355</td>\n",
       "    </tr>\n",
       "    <tr>\n",
       "      <th>1</th>\n",
       "      <td>47</td>\n",
       "      <td>1</td>\n",
       "      <td>1</td>\n",
       "      <td>0</td>\n",
       "      <td>13.093</td>\n",
       "    </tr>\n",
       "  </tbody>\n",
       "</table>\n",
       "</div>"
      ],
      "text/plain": [
       "   age  sex  bp  cholesterol  na_to_k\n",
       "0   23    0   0            0   25.355\n",
       "1   47    1   1            0   13.093"
      ]
     },
     "execution_count": 75,
     "metadata": {},
     "output_type": "execute_result"
    }
   ],
   "source": [
    "x.head(2)"
   ]
  },
  {
   "cell_type": "code",
   "execution_count": 76,
   "metadata": {},
   "outputs": [
    {
     "data": {
      "text/html": [
       "<div>\n",
       "<style scoped>\n",
       "    .dataframe tbody tr th:only-of-type {\n",
       "        vertical-align: middle;\n",
       "    }\n",
       "\n",
       "    .dataframe tbody tr th {\n",
       "        vertical-align: top;\n",
       "    }\n",
       "\n",
       "    .dataframe thead th {\n",
       "        text-align: right;\n",
       "    }\n",
       "</style>\n",
       "<table border=\"1\" class=\"dataframe\">\n",
       "  <thead>\n",
       "    <tr style=\"text-align: right;\">\n",
       "      <th></th>\n",
       "      <th>drug</th>\n",
       "    </tr>\n",
       "  </thead>\n",
       "  <tbody>\n",
       "    <tr>\n",
       "      <th>0</th>\n",
       "      <td>4</td>\n",
       "    </tr>\n",
       "    <tr>\n",
       "      <th>1</th>\n",
       "      <td>2</td>\n",
       "    </tr>\n",
       "  </tbody>\n",
       "</table>\n",
       "</div>"
      ],
      "text/plain": [
       "   drug\n",
       "0     4\n",
       "1     2"
      ]
     },
     "execution_count": 76,
     "metadata": {},
     "output_type": "execute_result"
    }
   ],
   "source": [
    "y.head(2)"
   ]
  },
  {
   "cell_type": "code",
   "execution_count": 77,
   "metadata": {},
   "outputs": [],
   "source": [
    "from sklearn.model_selection import train_test_split\n",
    "\n",
    "xtrain, xtest, ytrain, ytest = train_test_split(x,y,test_size=0.155,random_state=15)"
   ]
  },
  {
   "cell_type": "code",
   "execution_count": 78,
   "metadata": {},
   "outputs": [
    {
     "data": {
      "text/plain": [
       "((169, 5), (31, 5), (169, 1), (31, 1))"
      ]
     },
     "execution_count": 78,
     "metadata": {},
     "output_type": "execute_result"
    }
   ],
   "source": [
    "xtrain.shape, xtest.shape, ytrain.shape, ytest.shape"
   ]
  },
  {
   "cell_type": "code",
   "execution_count": 79,
   "metadata": {},
   "outputs": [
    {
     "name": "stdout",
     "output_type": "stream",
     "text": [
      "Epoch 1/150\n"
     ]
    },
    {
     "name": "stdout",
     "output_type": "stream",
     "text": [
      "4/4 [==============================] - 0s 43ms/step - loss: 3.1975 - accuracy: 0.4438 - val_loss: 2.0108 - val_accuracy: 0.5161\n",
      "Epoch 2/150\n",
      "4/4 [==============================] - 0s 8ms/step - loss: 2.1295 - accuracy: 0.4438 - val_loss: 1.4379 - val_accuracy: 0.5161\n",
      "Epoch 3/150\n",
      "4/4 [==============================] - 0s 9ms/step - loss: 1.5716 - accuracy: 0.4438 - val_loss: 1.1540 - val_accuracy: 0.5161\n",
      "Epoch 4/150\n",
      "4/4 [==============================] - 0s 10ms/step - loss: 1.3602 - accuracy: 0.4556 - val_loss: 1.0992 - val_accuracy: 0.5161\n",
      "Epoch 5/150\n",
      "4/4 [==============================] - 0s 9ms/step - loss: 1.3010 - accuracy: 0.5385 - val_loss: 1.0571 - val_accuracy: 0.5161\n",
      "Epoch 6/150\n",
      "4/4 [==============================] - 0s 9ms/step - loss: 1.2708 - accuracy: 0.4438 - val_loss: 1.0595 - val_accuracy: 0.5161\n",
      "Epoch 7/150\n",
      "4/4 [==============================] - 0s 10ms/step - loss: 1.2372 - accuracy: 0.4438 - val_loss: 1.0724 - val_accuracy: 0.5161\n",
      "Epoch 8/150\n",
      "4/4 [==============================] - 0s 11ms/step - loss: 1.2007 - accuracy: 0.4438 - val_loss: 1.0778 - val_accuracy: 0.5161\n",
      "Epoch 9/150\n",
      "4/4 [==============================] - 0s 10ms/step - loss: 1.1804 - accuracy: 0.4438 - val_loss: 1.0551 - val_accuracy: 0.5161\n",
      "Epoch 10/150\n",
      "4/4 [==============================] - 0s 11ms/step - loss: 1.1605 - accuracy: 0.4438 - val_loss: 1.0315 - val_accuracy: 0.5161\n",
      "Epoch 11/150\n",
      "4/4 [==============================] - 0s 9ms/step - loss: 1.1417 - accuracy: 0.5207 - val_loss: 1.0283 - val_accuracy: 0.5484\n",
      "Epoch 12/150\n",
      "4/4 [==============================] - 0s 10ms/step - loss: 1.1213 - accuracy: 0.5325 - val_loss: 1.0195 - val_accuracy: 0.5806\n",
      "Epoch 13/150\n",
      "4/4 [==============================] - 0s 8ms/step - loss: 1.1086 - accuracy: 0.5266 - val_loss: 1.0099 - val_accuracy: 0.5484\n",
      "Epoch 14/150\n",
      "4/4 [==============================] - 0s 11ms/step - loss: 1.0953 - accuracy: 0.5503 - val_loss: 1.0034 - val_accuracy: 0.5484\n",
      "Epoch 15/150\n",
      "4/4 [==============================] - 0s 11ms/step - loss: 1.0740 - accuracy: 0.5444 - val_loss: 1.0001 - val_accuracy: 0.5161\n",
      "Epoch 16/150\n",
      "4/4 [==============================] - 0s 10ms/step - loss: 1.0663 - accuracy: 0.5503 - val_loss: 1.0016 - val_accuracy: 0.5484\n",
      "Epoch 17/150\n",
      "4/4 [==============================] - 0s 10ms/step - loss: 1.0697 - accuracy: 0.5325 - val_loss: 0.9938 - val_accuracy: 0.5806\n",
      "Epoch 18/150\n",
      "4/4 [==============================] - 0s 9ms/step - loss: 1.0552 - accuracy: 0.5444 - val_loss: 0.9900 - val_accuracy: 0.5484\n",
      "Epoch 19/150\n",
      "4/4 [==============================] - 0s 10ms/step - loss: 1.0495 - accuracy: 0.5562 - val_loss: 0.9899 - val_accuracy: 0.5806\n",
      "Epoch 20/150\n",
      "4/4 [==============================] - 0s 10ms/step - loss: 1.0483 - accuracy: 0.5621 - val_loss: 0.9810 - val_accuracy: 0.5806\n",
      "Epoch 21/150\n",
      "4/4 [==============================] - 0s 9ms/step - loss: 1.0473 - accuracy: 0.5444 - val_loss: 0.9753 - val_accuracy: 0.5806\n",
      "Epoch 22/150\n",
      "4/4 [==============================] - 0s 11ms/step - loss: 1.0386 - accuracy: 0.5621 - val_loss: 0.9799 - val_accuracy: 0.6129\n",
      "Epoch 23/150\n",
      "4/4 [==============================] - 0s 9ms/step - loss: 1.0370 - accuracy: 0.5503 - val_loss: 0.9756 - val_accuracy: 0.6129\n",
      "Epoch 24/150\n",
      "4/4 [==============================] - 0s 10ms/step - loss: 1.0333 - accuracy: 0.5562 - val_loss: 0.9767 - val_accuracy: 0.5806\n",
      "Epoch 25/150\n",
      "4/4 [==============================] - 0s 10ms/step - loss: 1.0228 - accuracy: 0.5621 - val_loss: 0.9715 - val_accuracy: 0.5806\n",
      "Epoch 26/150\n",
      "4/4 [==============================] - 0s 10ms/step - loss: 1.0266 - accuracy: 0.5503 - val_loss: 0.9844 - val_accuracy: 0.5806\n",
      "Epoch 27/150\n",
      "4/4 [==============================] - 0s 9ms/step - loss: 1.0291 - accuracy: 0.5266 - val_loss: 0.9723 - val_accuracy: 0.5806\n",
      "Epoch 28/150\n",
      "4/4 [==============================] - 0s 8ms/step - loss: 1.0259 - accuracy: 0.5325 - val_loss: 0.9699 - val_accuracy: 0.6129\n",
      "Epoch 29/150\n",
      "4/4 [==============================] - 0s 8ms/step - loss: 1.0169 - accuracy: 0.5621 - val_loss: 0.9628 - val_accuracy: 0.5806\n",
      "Epoch 30/150\n",
      "4/4 [==============================] - 0s 9ms/step - loss: 1.0190 - accuracy: 0.5680 - val_loss: 0.9655 - val_accuracy: 0.5806\n",
      "Epoch 31/150\n",
      "4/4 [==============================] - 0s 8ms/step - loss: 1.0125 - accuracy: 0.5621 - val_loss: 0.9572 - val_accuracy: 0.6129\n",
      "Epoch 32/150\n",
      "4/4 [==============================] - 0s 7ms/step - loss: 1.0086 - accuracy: 0.5858 - val_loss: 0.9526 - val_accuracy: 0.6129\n",
      "Epoch 33/150\n",
      "4/4 [==============================] - 0s 10ms/step - loss: 1.0087 - accuracy: 0.5621 - val_loss: 0.9593 - val_accuracy: 0.5806\n",
      "Epoch 34/150\n",
      "4/4 [==============================] - 0s 8ms/step - loss: 1.0070 - accuracy: 0.5444 - val_loss: 0.9595 - val_accuracy: 0.6129\n",
      "Epoch 35/150\n",
      "4/4 [==============================] - 0s 7ms/step - loss: 1.0016 - accuracy: 0.5799 - val_loss: 0.9405 - val_accuracy: 0.6129\n",
      "Epoch 36/150\n",
      "4/4 [==============================] - 0s 9ms/step - loss: 0.9959 - accuracy: 0.5799 - val_loss: 0.9431 - val_accuracy: 0.6129\n",
      "Epoch 37/150\n",
      "4/4 [==============================] - 0s 9ms/step - loss: 0.9952 - accuracy: 0.5621 - val_loss: 0.9422 - val_accuracy: 0.6452\n",
      "Epoch 38/150\n",
      "4/4 [==============================] - 0s 10ms/step - loss: 1.0002 - accuracy: 0.5799 - val_loss: 0.9434 - val_accuracy: 0.5806\n",
      "Epoch 39/150\n",
      "4/4 [==============================] - 0s 11ms/step - loss: 1.0004 - accuracy: 0.5740 - val_loss: 0.9300 - val_accuracy: 0.6129\n",
      "Epoch 40/150\n",
      "4/4 [==============================] - 0s 11ms/step - loss: 0.9901 - accuracy: 0.5917 - val_loss: 0.9326 - val_accuracy: 0.5484\n",
      "Epoch 41/150\n",
      "4/4 [==============================] - 0s 11ms/step - loss: 1.0041 - accuracy: 0.5740 - val_loss: 0.9482 - val_accuracy: 0.5806\n",
      "Epoch 42/150\n",
      "4/4 [==============================] - 0s 10ms/step - loss: 0.9916 - accuracy: 0.5858 - val_loss: 0.9471 - val_accuracy: 0.6129\n",
      "Epoch 43/150\n",
      "4/4 [==============================] - 0s 9ms/step - loss: 0.9935 - accuracy: 0.5621 - val_loss: 0.9123 - val_accuracy: 0.6452\n",
      "Epoch 44/150\n",
      "4/4 [==============================] - 0s 8ms/step - loss: 0.9816 - accuracy: 0.5680 - val_loss: 0.9047 - val_accuracy: 0.6452\n",
      "Epoch 45/150\n",
      "4/4 [==============================] - 0s 10ms/step - loss: 0.9883 - accuracy: 0.5799 - val_loss: 0.9174 - val_accuracy: 0.6452\n",
      "Epoch 46/150\n",
      "4/4 [==============================] - 0s 10ms/step - loss: 0.9816 - accuracy: 0.5740 - val_loss: 0.9199 - val_accuracy: 0.6129\n",
      "Epoch 47/150\n",
      "4/4 [==============================] - 0s 7ms/step - loss: 0.9770 - accuracy: 0.6154 - val_loss: 0.9374 - val_accuracy: 0.6452\n",
      "Epoch 48/150\n",
      "4/4 [==============================] - 0s 10ms/step - loss: 0.9882 - accuracy: 0.5740 - val_loss: 0.9250 - val_accuracy: 0.6129\n",
      "Epoch 49/150\n",
      "4/4 [==============================] - 0s 8ms/step - loss: 0.9794 - accuracy: 0.6036 - val_loss: 0.9091 - val_accuracy: 0.6129\n",
      "Epoch 50/150\n",
      "4/4 [==============================] - 0s 8ms/step - loss: 0.9740 - accuracy: 0.5917 - val_loss: 0.9041 - val_accuracy: 0.6452\n",
      "Epoch 51/150\n",
      "4/4 [==============================] - 0s 10ms/step - loss: 0.9664 - accuracy: 0.5680 - val_loss: 0.9117 - val_accuracy: 0.6129\n",
      "Epoch 52/150\n",
      "4/4 [==============================] - 0s 9ms/step - loss: 0.9627 - accuracy: 0.5680 - val_loss: 0.9100 - val_accuracy: 0.6452\n",
      "Epoch 53/150\n",
      "4/4 [==============================] - 0s 9ms/step - loss: 0.9723 - accuracy: 0.5858 - val_loss: 0.9004 - val_accuracy: 0.6129\n",
      "Epoch 54/150\n",
      "4/4 [==============================] - 0s 9ms/step - loss: 0.9685 - accuracy: 0.5858 - val_loss: 0.9005 - val_accuracy: 0.6129\n",
      "Epoch 55/150\n",
      "4/4 [==============================] - 0s 8ms/step - loss: 0.9662 - accuracy: 0.5917 - val_loss: 0.8916 - val_accuracy: 0.6452\n",
      "Epoch 56/150\n",
      "4/4 [==============================] - 0s 9ms/step - loss: 0.9567 - accuracy: 0.5858 - val_loss: 0.8968 - val_accuracy: 0.6129\n",
      "Epoch 57/150\n",
      "4/4 [==============================] - 0s 8ms/step - loss: 0.9503 - accuracy: 0.5799 - val_loss: 0.9075 - val_accuracy: 0.6452\n",
      "Epoch 58/150\n",
      "4/4 [==============================] - 0s 10ms/step - loss: 0.9482 - accuracy: 0.5976 - val_loss: 0.8928 - val_accuracy: 0.6452\n",
      "Epoch 59/150\n",
      "4/4 [==============================] - 0s 9ms/step - loss: 0.9366 - accuracy: 0.5976 - val_loss: 0.8749 - val_accuracy: 0.6452\n",
      "Epoch 60/150\n",
      "4/4 [==============================] - 0s 8ms/step - loss: 0.9377 - accuracy: 0.5976 - val_loss: 0.8587 - val_accuracy: 0.6452\n",
      "Epoch 61/150\n",
      "4/4 [==============================] - 0s 9ms/step - loss: 0.9390 - accuracy: 0.5740 - val_loss: 0.8504 - val_accuracy: 0.6452\n",
      "Epoch 62/150\n",
      "4/4 [==============================] - 0s 9ms/step - loss: 0.9319 - accuracy: 0.5740 - val_loss: 0.8574 - val_accuracy: 0.6452\n",
      "Epoch 63/150\n",
      "4/4 [==============================] - 0s 11ms/step - loss: 0.9221 - accuracy: 0.6036 - val_loss: 0.8626 - val_accuracy: 0.6452\n",
      "Epoch 64/150\n",
      "4/4 [==============================] - 0s 9ms/step - loss: 0.9303 - accuracy: 0.5976 - val_loss: 0.8637 - val_accuracy: 0.6452\n",
      "Epoch 65/150\n",
      "4/4 [==============================] - 0s 9ms/step - loss: 0.9211 - accuracy: 0.6154 - val_loss: 0.8511 - val_accuracy: 0.6452\n",
      "Epoch 66/150\n",
      "4/4 [==============================] - 0s 11ms/step - loss: 0.9179 - accuracy: 0.5917 - val_loss: 0.8618 - val_accuracy: 0.6452\n",
      "Epoch 67/150\n",
      "4/4 [==============================] - 0s 11ms/step - loss: 0.9331 - accuracy: 0.5799 - val_loss: 0.8570 - val_accuracy: 0.6452\n",
      "Epoch 68/150\n",
      "4/4 [==============================] - 0s 9ms/step - loss: 0.9220 - accuracy: 0.6036 - val_loss: 0.8822 - val_accuracy: 0.5161\n",
      "Epoch 69/150\n",
      "4/4 [==============================] - 0s 9ms/step - loss: 0.9307 - accuracy: 0.6213 - val_loss: 0.8338 - val_accuracy: 0.6452\n",
      "Epoch 70/150\n",
      "4/4 [==============================] - 0s 8ms/step - loss: 0.9065 - accuracy: 0.5976 - val_loss: 0.8272 - val_accuracy: 0.6452\n",
      "Epoch 71/150\n",
      "4/4 [==============================] - 0s 14ms/step - loss: 0.9028 - accuracy: 0.5917 - val_loss: 0.8368 - val_accuracy: 0.6129\n",
      "Epoch 72/150\n",
      "4/4 [==============================] - 0s 11ms/step - loss: 0.9048 - accuracy: 0.6036 - val_loss: 0.8320 - val_accuracy: 0.6452\n",
      "Epoch 73/150\n",
      "4/4 [==============================] - 0s 13ms/step - loss: 0.8889 - accuracy: 0.6154 - val_loss: 0.8334 - val_accuracy: 0.6452\n",
      "Epoch 74/150\n",
      "4/4 [==============================] - 0s 10ms/step - loss: 0.8945 - accuracy: 0.6095 - val_loss: 0.8135 - val_accuracy: 0.6452\n",
      "Epoch 75/150\n",
      "4/4 [==============================] - 0s 8ms/step - loss: 0.8933 - accuracy: 0.6154 - val_loss: 0.8181 - val_accuracy: 0.6129\n",
      "Epoch 76/150\n",
      "4/4 [==============================] - 0s 8ms/step - loss: 0.8842 - accuracy: 0.6213 - val_loss: 0.7986 - val_accuracy: 0.6452\n",
      "Epoch 77/150\n",
      "4/4 [==============================] - 0s 12ms/step - loss: 0.8823 - accuracy: 0.6154 - val_loss: 0.7989 - val_accuracy: 0.6452\n",
      "Epoch 78/150\n",
      "4/4 [==============================] - 0s 10ms/step - loss: 0.8761 - accuracy: 0.6154 - val_loss: 0.8085 - val_accuracy: 0.6774\n",
      "Epoch 79/150\n",
      "4/4 [==============================] - 0s 9ms/step - loss: 0.8716 - accuracy: 0.6331 - val_loss: 0.8059 - val_accuracy: 0.6452\n",
      "Epoch 80/150\n",
      "4/4 [==============================] - 0s 6ms/step - loss: 0.8723 - accuracy: 0.6331 - val_loss: 0.7793 - val_accuracy: 0.6452\n",
      "Epoch 81/150\n",
      "4/4 [==============================] - 0s 8ms/step - loss: 0.8566 - accuracy: 0.6450 - val_loss: 0.7872 - val_accuracy: 0.6129\n",
      "Epoch 82/150\n",
      "4/4 [==============================] - 0s 9ms/step - loss: 0.8622 - accuracy: 0.6391 - val_loss: 0.7796 - val_accuracy: 0.6452\n",
      "Epoch 83/150\n",
      "4/4 [==============================] - 0s 8ms/step - loss: 0.8570 - accuracy: 0.6095 - val_loss: 0.7917 - val_accuracy: 0.6452\n",
      "Epoch 84/150\n",
      "4/4 [==============================] - 0s 11ms/step - loss: 0.8583 - accuracy: 0.6272 - val_loss: 0.7889 - val_accuracy: 0.6774\n",
      "Epoch 85/150\n",
      "4/4 [==============================] - 0s 9ms/step - loss: 0.8431 - accuracy: 0.6331 - val_loss: 0.7637 - val_accuracy: 0.6452\n",
      "Epoch 86/150\n",
      "4/4 [==============================] - 0s 9ms/step - loss: 0.8366 - accuracy: 0.6627 - val_loss: 0.7500 - val_accuracy: 0.6774\n",
      "Epoch 87/150\n",
      "4/4 [==============================] - 0s 9ms/step - loss: 0.8250 - accuracy: 0.6627 - val_loss: 0.7426 - val_accuracy: 0.6452\n",
      "Epoch 88/150\n",
      "4/4 [==============================] - 0s 11ms/step - loss: 0.8303 - accuracy: 0.6331 - val_loss: 0.7486 - val_accuracy: 0.6452\n",
      "Epoch 89/150\n",
      "4/4 [==============================] - 0s 11ms/step - loss: 0.8219 - accuracy: 0.6509 - val_loss: 0.7379 - val_accuracy: 0.7097\n",
      "Epoch 90/150\n",
      "4/4 [==============================] - 0s 8ms/step - loss: 0.8196 - accuracy: 0.6391 - val_loss: 0.7221 - val_accuracy: 0.6774\n",
      "Epoch 91/150\n",
      "4/4 [==============================] - 0s 9ms/step - loss: 0.8080 - accuracy: 0.6805 - val_loss: 0.7291 - val_accuracy: 0.7097\n",
      "Epoch 92/150\n",
      "4/4 [==============================] - 0s 7ms/step - loss: 0.8312 - accuracy: 0.6450 - val_loss: 0.7321 - val_accuracy: 0.6774\n",
      "Epoch 93/150\n",
      "4/4 [==============================] - 0s 10ms/step - loss: 0.8261 - accuracy: 0.6627 - val_loss: 0.7452 - val_accuracy: 0.6774\n",
      "Epoch 94/150\n",
      "4/4 [==============================] - 0s 13ms/step - loss: 0.7953 - accuracy: 0.6746 - val_loss: 0.6989 - val_accuracy: 0.6452\n",
      "Epoch 95/150\n",
      "4/4 [==============================] - 0s 11ms/step - loss: 0.7943 - accuracy: 0.6331 - val_loss: 0.7106 - val_accuracy: 0.7419\n",
      "Epoch 96/150\n",
      "4/4 [==============================] - 0s 14ms/step - loss: 0.7825 - accuracy: 0.6746 - val_loss: 0.6935 - val_accuracy: 0.6774\n",
      "Epoch 97/150\n",
      "4/4 [==============================] - 0s 10ms/step - loss: 0.7771 - accuracy: 0.6686 - val_loss: 0.6874 - val_accuracy: 0.7097\n",
      "Epoch 98/150\n",
      "4/4 [==============================] - 0s 10ms/step - loss: 0.7751 - accuracy: 0.6864 - val_loss: 0.6890 - val_accuracy: 0.7097\n",
      "Epoch 99/150\n",
      "4/4 [==============================] - 0s 8ms/step - loss: 0.7602 - accuracy: 0.7041 - val_loss: 0.6653 - val_accuracy: 0.7097\n",
      "Epoch 100/150\n",
      "4/4 [==============================] - 0s 8ms/step - loss: 0.7647 - accuracy: 0.6923 - val_loss: 0.6753 - val_accuracy: 0.7419\n",
      "Epoch 101/150\n",
      "4/4 [==============================] - 0s 10ms/step - loss: 0.7661 - accuracy: 0.7041 - val_loss: 0.6763 - val_accuracy: 0.7419\n",
      "Epoch 102/150\n",
      "4/4 [==============================] - 0s 14ms/step - loss: 0.7418 - accuracy: 0.7101 - val_loss: 0.6495 - val_accuracy: 0.7097\n",
      "Epoch 103/150\n",
      "4/4 [==============================] - 0s 11ms/step - loss: 0.7320 - accuracy: 0.6982 - val_loss: 0.6583 - val_accuracy: 0.7419\n",
      "Epoch 104/150\n",
      "4/4 [==============================] - 0s 11ms/step - loss: 0.7335 - accuracy: 0.7160 - val_loss: 0.6506 - val_accuracy: 0.7742\n",
      "Epoch 105/150\n",
      "4/4 [==============================] - 0s 11ms/step - loss: 0.7260 - accuracy: 0.7101 - val_loss: 0.6604 - val_accuracy: 0.7097\n",
      "Epoch 106/150\n",
      "4/4 [==============================] - 0s 10ms/step - loss: 0.7232 - accuracy: 0.7160 - val_loss: 0.6422 - val_accuracy: 0.7419\n",
      "Epoch 107/150\n",
      "4/4 [==============================] - 0s 10ms/step - loss: 0.7080 - accuracy: 0.7160 - val_loss: 0.6051 - val_accuracy: 0.7097\n",
      "Epoch 108/150\n",
      "4/4 [==============================] - 0s 9ms/step - loss: 0.7213 - accuracy: 0.7278 - val_loss: 0.6205 - val_accuracy: 0.7419\n",
      "Epoch 109/150\n",
      "4/4 [==============================] - 0s 9ms/step - loss: 0.7328 - accuracy: 0.7041 - val_loss: 0.5970 - val_accuracy: 0.7742\n",
      "Epoch 110/150\n",
      "4/4 [==============================] - 0s 8ms/step - loss: 0.7459 - accuracy: 0.6627 - val_loss: 0.5982 - val_accuracy: 0.7419\n",
      "Epoch 111/150\n",
      "4/4 [==============================] - 0s 9ms/step - loss: 0.7059 - accuracy: 0.6982 - val_loss: 0.6551 - val_accuracy: 0.7097\n",
      "Epoch 112/150\n",
      "4/4 [==============================] - 0s 9ms/step - loss: 0.7321 - accuracy: 0.6805 - val_loss: 0.5987 - val_accuracy: 0.7419\n",
      "Epoch 113/150\n",
      "4/4 [==============================] - 0s 10ms/step - loss: 0.6750 - accuracy: 0.7515 - val_loss: 0.6834 - val_accuracy: 0.6774\n",
      "Epoch 114/150\n",
      "4/4 [==============================] - 0s 9ms/step - loss: 0.7053 - accuracy: 0.7101 - val_loss: 0.5906 - val_accuracy: 0.7097\n",
      "Epoch 115/150\n",
      "4/4 [==============================] - 0s 8ms/step - loss: 0.6822 - accuracy: 0.7160 - val_loss: 0.5889 - val_accuracy: 0.7742\n",
      "Epoch 116/150\n",
      "4/4 [==============================] - 0s 8ms/step - loss: 0.6745 - accuracy: 0.7633 - val_loss: 0.5779 - val_accuracy: 0.7742\n",
      "Epoch 117/150\n",
      "4/4 [==============================] - 0s 7ms/step - loss: 0.6569 - accuracy: 0.7278 - val_loss: 0.5657 - val_accuracy: 0.7419\n",
      "Epoch 118/150\n",
      "4/4 [==============================] - 0s 10ms/step - loss: 0.6384 - accuracy: 0.7692 - val_loss: 0.5801 - val_accuracy: 0.8065\n",
      "Epoch 119/150\n",
      "4/4 [==============================] - 0s 9ms/step - loss: 0.6391 - accuracy: 0.8107 - val_loss: 0.5505 - val_accuracy: 0.7419\n",
      "Epoch 120/150\n",
      "4/4 [==============================] - 0s 9ms/step - loss: 0.6301 - accuracy: 0.7456 - val_loss: 0.5352 - val_accuracy: 0.8065\n",
      "Epoch 121/150\n",
      "4/4 [==============================] - 0s 9ms/step - loss: 0.6361 - accuracy: 0.7219 - val_loss: 0.5147 - val_accuracy: 0.7419\n",
      "Epoch 122/150\n",
      "4/4 [==============================] - 0s 9ms/step - loss: 0.6469 - accuracy: 0.7219 - val_loss: 0.5346 - val_accuracy: 0.7419\n",
      "Epoch 123/150\n",
      "4/4 [==============================] - 0s 9ms/step - loss: 0.6204 - accuracy: 0.7692 - val_loss: 0.5464 - val_accuracy: 0.8065\n",
      "Epoch 124/150\n",
      "4/4 [==============================] - 0s 9ms/step - loss: 0.6248 - accuracy: 0.7870 - val_loss: 0.5721 - val_accuracy: 0.7742\n",
      "Epoch 125/150\n",
      "4/4 [==============================] - 0s 9ms/step - loss: 0.6143 - accuracy: 0.7692 - val_loss: 0.5072 - val_accuracy: 0.7742\n",
      "Epoch 126/150\n",
      "4/4 [==============================] - 0s 10ms/step - loss: 0.5924 - accuracy: 0.7811 - val_loss: 0.4941 - val_accuracy: 0.8710\n",
      "Epoch 127/150\n",
      "4/4 [==============================] - 0s 9ms/step - loss: 0.5865 - accuracy: 0.8166 - val_loss: 0.4860 - val_accuracy: 0.8387\n",
      "Epoch 128/150\n",
      "4/4 [==============================] - 0s 9ms/step - loss: 0.6002 - accuracy: 0.7751 - val_loss: 0.4935 - val_accuracy: 0.7742\n",
      "Epoch 129/150\n",
      "4/4 [==============================] - 0s 10ms/step - loss: 0.5741 - accuracy: 0.8343 - val_loss: 0.5060 - val_accuracy: 0.8710\n",
      "Epoch 130/150\n",
      "4/4 [==============================] - 0s 10ms/step - loss: 0.5924 - accuracy: 0.7811 - val_loss: 0.5252 - val_accuracy: 0.7742\n",
      "Epoch 131/150\n",
      "4/4 [==============================] - 0s 9ms/step - loss: 0.6085 - accuracy: 0.7515 - val_loss: 0.4878 - val_accuracy: 0.7742\n",
      "Epoch 132/150\n",
      "4/4 [==============================] - 0s 10ms/step - loss: 0.5724 - accuracy: 0.8047 - val_loss: 0.4690 - val_accuracy: 0.8710\n",
      "Epoch 133/150\n",
      "4/4 [==============================] - 0s 9ms/step - loss: 0.5657 - accuracy: 0.8166 - val_loss: 0.4698 - val_accuracy: 0.7742\n",
      "Epoch 134/150\n",
      "4/4 [==============================] - 0s 12ms/step - loss: 0.5613 - accuracy: 0.7870 - val_loss: 0.4487 - val_accuracy: 0.8387\n",
      "Epoch 135/150\n",
      "4/4 [==============================] - 0s 9ms/step - loss: 0.5346 - accuracy: 0.8580 - val_loss: 0.4722 - val_accuracy: 0.9355\n",
      "Epoch 136/150\n",
      "4/4 [==============================] - 0s 9ms/step - loss: 0.5534 - accuracy: 0.8166 - val_loss: 0.4471 - val_accuracy: 0.8710\n",
      "Epoch 137/150\n",
      "4/4 [==============================] - 0s 10ms/step - loss: 0.5716 - accuracy: 0.7515 - val_loss: 0.4557 - val_accuracy: 0.7742\n",
      "Epoch 138/150\n",
      "4/4 [==============================] - 0s 9ms/step - loss: 0.5363 - accuracy: 0.7751 - val_loss: 0.4428 - val_accuracy: 0.9032\n",
      "Epoch 139/150\n",
      "4/4 [==============================] - 0s 25ms/step - loss: 0.5624 - accuracy: 0.8166 - val_loss: 0.4475 - val_accuracy: 0.9677\n",
      "Epoch 140/150\n",
      "4/4 [==============================] - 0s 9ms/step - loss: 0.5237 - accuracy: 0.8047 - val_loss: 0.4414 - val_accuracy: 0.8387\n",
      "Epoch 141/150\n",
      "4/4 [==============================] - 0s 9ms/step - loss: 0.5126 - accuracy: 0.8107 - val_loss: 0.4334 - val_accuracy: 0.9355\n",
      "Epoch 142/150\n",
      "4/4 [==============================] - 0s 8ms/step - loss: 0.5096 - accuracy: 0.8284 - val_loss: 0.4112 - val_accuracy: 0.9032\n",
      "Epoch 143/150\n",
      "4/4 [==============================] - 0s 8ms/step - loss: 0.4951 - accuracy: 0.8225 - val_loss: 0.4097 - val_accuracy: 0.9032\n",
      "Epoch 144/150\n",
      "4/4 [==============================] - 0s 7ms/step - loss: 0.4962 - accuracy: 0.8343 - val_loss: 0.4161 - val_accuracy: 0.9677\n",
      "Epoch 145/150\n",
      "4/4 [==============================] - 0s 8ms/step - loss: 0.4829 - accuracy: 0.8580 - val_loss: 0.4146 - val_accuracy: 0.8710\n",
      "Epoch 146/150\n",
      "4/4 [==============================] - 0s 10ms/step - loss: 0.4935 - accuracy: 0.8166 - val_loss: 0.3965 - val_accuracy: 0.9032\n",
      "Epoch 147/150\n",
      "4/4 [==============================] - 0s 11ms/step - loss: 0.4789 - accuracy: 0.8521 - val_loss: 0.3984 - val_accuracy: 0.9355\n",
      "Epoch 148/150\n",
      "4/4 [==============================] - 0s 8ms/step - loss: 0.4694 - accuracy: 0.8521 - val_loss: 0.4012 - val_accuracy: 0.9032\n",
      "Epoch 149/150\n",
      "4/4 [==============================] - 0s 8ms/step - loss: 0.4723 - accuracy: 0.8402 - val_loss: 0.3972 - val_accuracy: 0.9355\n",
      "Epoch 150/150\n",
      "4/4 [==============================] - 0s 10ms/step - loss: 0.4681 - accuracy: 0.8521 - val_loss: 0.3881 - val_accuracy: 0.9032\n"
     ]
    },
    {
     "data": {
      "text/plain": [
       "<keras.callbacks.History at 0x292e13c71f0>"
      ]
     },
     "execution_count": 79,
     "metadata": {},
     "output_type": "execute_result"
    }
   ],
   "source": [
    "# model creation:\n",
    "\n",
    "from tensorflow.keras.layers import Dense\n",
    "from tensorflow.keras.models import Sequential\n",
    "\n",
    "model = Sequential()\n",
    "\n",
    "model.add(Dense(5, activation='relu'))\n",
    "\n",
    "model.add(Dense(81, activation='relu'))\n",
    "model.add(Dense(54, activation='relu'))\n",
    "model.add(Dense(27, activation='relu'))\n",
    "\n",
    "model.add(Dense(5, activation='softmax'))\n",
    "\n",
    "model.compile(optimizer='adam',loss='sparse_categorical_crossentropy', metrics=['accuracy'])\n",
    "model.fit(xtrain, ytrain, epochs=150, batch_size=50, validation_data=([xtest, ytest]), verbose=1)"
   ]
  },
  {
   "cell_type": "code",
   "execution_count": 91,
   "metadata": {},
   "outputs": [],
   "source": [
    "model.save('Models/drugmodel.h5')"
   ]
  },
  {
   "cell_type": "code",
   "execution_count": 52,
   "metadata": {},
   "outputs": [
    {
     "name": "stdout",
     "output_type": "stream",
     "text": [
      "\n"
     ]
    }
   ],
   "source": [
    "model.predict(xtest)\n",
    "print()"
   ]
  },
  {
   "cell_type": "code",
   "execution_count": 53,
   "metadata": {},
   "outputs": [
    {
     "data": {
      "text/html": [
       "<div>\n",
       "<style scoped>\n",
       "    .dataframe tbody tr th:only-of-type {\n",
       "        vertical-align: middle;\n",
       "    }\n",
       "\n",
       "    .dataframe tbody tr th {\n",
       "        vertical-align: top;\n",
       "    }\n",
       "\n",
       "    .dataframe thead th {\n",
       "        text-align: right;\n",
       "    }\n",
       "</style>\n",
       "<table border=\"1\" class=\"dataframe\">\n",
       "  <thead>\n",
       "    <tr style=\"text-align: right;\">\n",
       "      <th></th>\n",
       "      <th>age</th>\n",
       "      <th>sex</th>\n",
       "      <th>bp</th>\n",
       "      <th>cholesterol</th>\n",
       "      <th>na_to_k</th>\n",
       "    </tr>\n",
       "  </thead>\n",
       "  <tbody>\n",
       "    <tr>\n",
       "      <th>49</th>\n",
       "      <td>28</td>\n",
       "      <td>0</td>\n",
       "      <td>1</td>\n",
       "      <td>0</td>\n",
       "      <td>19.796</td>\n",
       "    </tr>\n",
       "    <tr>\n",
       "      <th>191</th>\n",
       "      <td>23</td>\n",
       "      <td>1</td>\n",
       "      <td>0</td>\n",
       "      <td>0</td>\n",
       "      <td>8.011</td>\n",
       "    </tr>\n",
       "    <tr>\n",
       "      <th>12</th>\n",
       "      <td>43</td>\n",
       "      <td>1</td>\n",
       "      <td>1</td>\n",
       "      <td>0</td>\n",
       "      <td>15.376</td>\n",
       "    </tr>\n",
       "    <tr>\n",
       "      <th>172</th>\n",
       "      <td>39</td>\n",
       "      <td>0</td>\n",
       "      <td>2</td>\n",
       "      <td>1</td>\n",
       "      <td>17.225</td>\n",
       "    </tr>\n",
       "  </tbody>\n",
       "</table>\n",
       "</div>"
      ],
      "text/plain": [
       "     age  sex  bp  cholesterol  na_to_k\n",
       "49    28    0   1            0   19.796\n",
       "191   23    1   0            0    8.011\n",
       "12    43    1   1            0   15.376\n",
       "172   39    0   2            1   17.225"
      ]
     },
     "execution_count": 53,
     "metadata": {},
     "output_type": "execute_result"
    }
   ],
   "source": [
    "xtest.head(4)"
   ]
  },
  {
   "cell_type": "code",
   "execution_count": 80,
   "metadata": {},
   "outputs": [],
   "source": [
    "# ['f' 'm']\n",
    "# [0 1]\n",
    "# ['high' 'low' 'normal']\n",
    "# [0 1 2]\n",
    "# ['high' 'normal']\n",
    "# [0 1]\n",
    "# ['drugy' 'drugc' 'drugx' 'druga' 'drugb']\n",
    "# [4 2 3 0 1]"
   ]
  },
  {
   "cell_type": "code",
   "execution_count": 85,
   "metadata": {},
   "outputs": [
    {
     "name": "stdout",
     "output_type": "stream",
     "text": [
      "[[0.567227   0.17501386 0.12853202 0.05790423 0.07132292]]\n",
      "0\n"
     ]
    },
    {
     "data": {
      "text/plain": [
       "'druga'"
      ]
     },
     "execution_count": 85,
     "metadata": {},
     "output_type": "execute_result"
    }
   ],
   "source": [
    "pred = model.predict([[36,0,0,0,11.198]])\n",
    "print(pred)\n",
    "print(np.argmax(pred))\n",
    "ind = np.argmax(pred)\n",
    "ar = ['druga','drugb','drugc','drugx', 'drugy']\n",
    "ar[ind]"
   ]
  },
  {
   "cell_type": "code",
   "execution_count": 90,
   "metadata": {},
   "outputs": [
    {
     "data": {
      "text/plain": [
       "'drugb'"
      ]
     },
     "execution_count": 90,
     "metadata": {},
     "output_type": "execute_result"
    }
   ],
   "source": [
    "pred = model.predict([[77,1,0,1,11.343]])\n",
    "# print(np.argmax(pred))\n",
    "ind = np.argmax(pred)\n",
    "ar = ['druga','drugb','drugc','drugx', 'drugy']\n",
    "ar[ind]"
   ]
  },
  {
   "cell_type": "code",
   "execution_count": null,
   "metadata": {},
   "outputs": [],
   "source": []
  }
 ],
 "metadata": {
  "kernelspec": {
   "display_name": "Python 3",
   "language": "python",
   "name": "python3"
  },
  "language_info": {
   "codemirror_mode": {
    "name": "ipython",
    "version": 3
   },
   "file_extension": ".py",
   "mimetype": "text/x-python",
   "name": "python",
   "nbconvert_exporter": "python",
   "pygments_lexer": "ipython3",
   "version": "3.10.6"
  },
  "orig_nbformat": 4
 },
 "nbformat": 4,
 "nbformat_minor": 2
}
