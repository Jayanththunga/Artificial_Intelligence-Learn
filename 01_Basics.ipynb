{
 "cells": [
  {
   "cell_type": "code",
   "execution_count": 1,
   "metadata": {},
   "outputs": [
    {
     "name": "stdout",
     "output_type": "stream",
     "text": [
      "Welcome to python\n"
     ]
    },
    {
     "data": {
      "text/plain": [
       "5"
      ]
     },
     "execution_count": 1,
     "metadata": {},
     "output_type": "execute_result"
    }
   ],
   "source": [
    "print(\"Welcome to python\")\n",
    "2+3"
   ]
  },
  {
   "cell_type": "code",
   "execution_count": 2,
   "metadata": {},
   "outputs": [
    {
     "name": "stdout",
     "output_type": "stream",
     "text": [
      "[1, 2, 'Hello', 12, 1, 2, 'me', 'Hello']\n",
      "1 12 me\n",
      "[10, 2, 'Hello', 12]\n",
      "[10, 'Hello', 1, 'me']\n",
      "[2, 'me', 'Hello']\n"
     ]
    }
   ],
   "source": [
    "# List:\n",
    "\n",
    "list = [1, 2, \"Hello\", 12, 1, 2, \"me\", \"Hello\"]\n",
    "print(list)\n",
    "\n",
    "#indexing:\n",
    "print(list[0], list[3], list[-2])\n",
    "\n",
    "# can change values:\n",
    "list[0] = 10\n",
    "\n",
    "#slicing:\n",
    "print(list[0:4])\n",
    "print(list[0:8:2]) # steps\n",
    "print(list[-3:])"
   ]
  },
  {
   "cell_type": "code",
   "execution_count": 3,
   "metadata": {},
   "outputs": [
    {
     "name": "stdout",
     "output_type": "stream",
     "text": [
      "(15, 'Hamburger', 27, 13, 'sleep', 12, 1, 2, 'me', 'Hello')\n"
     ]
    }
   ],
   "source": [
    "# Tuples - (immutable lists)\n",
    "\n",
    "tuple = (15, \"Hamburger\" ,27, 13, \"sleep\", 12, 1, 2, \"me\", \"Hello\")\n",
    "print(tuple)\n",
    "\n",
    "# indexing and slicing same as lists"
   ]
  },
  {
   "cell_type": "code",
   "execution_count": 4,
   "metadata": {},
   "outputs": [
    {
     "name": "stdout",
     "output_type": "stream",
     "text": [
      "{1, 2, 'hii', 27, 'boo', 11}\n"
     ]
    }
   ],
   "source": [
    "# sets - no duplicates, slicing and indexing not possible\n",
    "\n",
    "set = {1, \"hii\", \"boo\", 2, 11, 27, \"hii\", 1, 27}\n",
    "print(set)\n"
   ]
  },
  {
   "cell_type": "code",
   "execution_count": 5,
   "metadata": {},
   "outputs": [
    {
     "data": {
      "text/plain": [
       "{'a': [1, 2, 3], 'b': 12, 'c': 13.456, 3: {'kingpin', 'spiderpunk'}}"
      ]
     },
     "execution_count": 5,
     "metadata": {},
     "output_type": "execute_result"
    }
   ],
   "source": [
    "# Dictionaries - (type of Hash Maps)\n",
    "\n",
    "dict = {\"a\" : [1,2,3],\n",
    "        \"b\" : 12,\n",
    "        \"c\" : 13.456,\n",
    "        3 : {\"kingpin\", \"spiderpunk\"}}\n",
    "\n",
    "dict"
   ]
  },
  {
   "cell_type": "code",
   "execution_count": 6,
   "metadata": {},
   "outputs": [
    {
     "name": "stdout",
     "output_type": "stream",
     "text": [
      "10 is < 15\n"
     ]
    }
   ],
   "source": [
    "# if-elif-else:\n",
    "\n",
    "a = int(input())\n",
    "\n",
    "if(a==15):\n",
    "    print(a, \"is 15\")\n",
    "elif(a<15):\n",
    "    print(a, \"is < 15\")\n",
    "else:\n",
    "    print(a, \"is > 15\")\n"
   ]
  },
  {
   "cell_type": "code",
   "execution_count": 7,
   "metadata": {},
   "outputs": [
    {
     "name": "stdout",
     "output_type": "stream",
     "text": [
      "10\n",
      "12\n",
      "16\n",
      "18\n",
      "20\n"
     ]
    }
   ],
   "source": [
    "# for loop:\n",
    "\n",
    "for i in range(10, 25, 2):\n",
    "    if(i==14):\n",
    "        continue\n",
    "    elif(i>20):\n",
    "        break\n",
    "    else:\n",
    "        print(i)"
   ]
  },
  {
   "cell_type": "code",
   "execution_count": 8,
   "metadata": {},
   "outputs": [
    {
     "name": "stdout",
     "output_type": "stream",
     "text": [
      "5\n",
      "22\n",
      "Mandrill is a minho\n",
      "hii is a minho\n"
     ]
    }
   ],
   "source": [
    "# functions:\n",
    "\n",
    "def add(a, b):\n",
    "    return a+b\n",
    "\n",
    "def minho(a):\n",
    "    return a + \" is a minho\"\n",
    "\n",
    "print(add(2, 3))\n",
    "print(add(int(input(\"enter a: \")), int(input(\"enter b: \"))))\n",
    "print(minho(\"Mandrill\"))\n",
    "print(minho(str(input(\"enter minho: \"))))"
   ]
  },
  {
   "cell_type": "code",
   "execution_count": 9,
   "metadata": {},
   "outputs": [
    {
     "data": {
      "text/plain": [
       "0.6666666666666666"
      ]
     },
     "execution_count": 9,
     "metadata": {},
     "output_type": "execute_result"
    }
   ],
   "source": [
    "# lambda func:\n",
    "\n",
    "a = lambda x,y,z: x*y/z\n",
    "\n",
    "a(1,2,3)"
   ]
  },
  {
   "cell_type": "code",
   "execution_count": 10,
   "metadata": {},
   "outputs": [],
   "source": [
    "# list comp:"
   ]
  },
  {
   "cell_type": "code",
   "execution_count": null,
   "metadata": {},
   "outputs": [],
   "source": [
    "\n"
   ]
  }
 ],
 "metadata": {
  "kernelspec": {
   "display_name": "Python 3",
   "language": "python",
   "name": "python3"
  },
  "language_info": {
   "codemirror_mode": {
    "name": "ipython",
    "version": 3
   },
   "file_extension": ".py",
   "mimetype": "text/x-python",
   "name": "python",
   "nbconvert_exporter": "python",
   "pygments_lexer": "ipython3",
   "version": "3.10.6"
  },
  "orig_nbformat": 4
 },
 "nbformat": 4,
 "nbformat_minor": 2
}
