{
 "cells": [
  {
   "cell_type": "code",
   "execution_count": 2,
   "metadata": {},
   "outputs": [],
   "source": [
    "import pandas as pd\n",
    "import numpy as np\n",
    "\n",
    "# pandas contains - Series and DataFrame"
   ]
  },
  {
   "cell_type": "code",
   "execution_count": 3,
   "metadata": {},
   "outputs": [
    {
     "name": "stdout",
     "output_type": "stream",
     "text": [
      "0    10.0\n",
      "1    13.5\n",
      "2    17.0\n",
      "dtype: float64\n",
      "index 2:  17.0\n",
      "0    0.874679\n",
      "1    0.425670\n",
      "2    0.251775\n",
      "3    0.839194\n",
      "4    0.551467\n",
      "dtype: float64\n"
     ]
    },
    {
     "data": {
      "text/plain": [
       "10    0.874679\n",
       "11    0.425670\n",
       "12    0.251775\n",
       "13    0.839194\n",
       "14    0.551467\n",
       "dtype: float64"
      ]
     },
     "execution_count": 3,
     "metadata": {},
     "output_type": "execute_result"
    }
   ],
   "source": [
    "# series: \n",
    "\n",
    "array = np.arange(10, 20, 3.5)\n",
    "series = pd.Series(array)\n",
    "print(series)\n",
    "\n",
    "# indexing and slicing is possible:\n",
    "print(\"index 2: \",series[2])\n",
    "\n",
    "series = pd.Series(np.random.rand(5)) # creating 5 random variables\n",
    "print(series)\n",
    "\n",
    "# we can change indexes:\n",
    "series.index = [10,11,12,13,14]\n",
    "series"
   ]
  },
  {
   "cell_type": "code",
   "execution_count": 4,
   "metadata": {},
   "outputs": [
    {
     "name": "stdout",
     "output_type": "stream",
     "text": [
      "          0         1         2         3\n",
      "0  0.619833  0.650228  0.980229  0.878076\n",
      "1  0.061046  0.323581  0.909017  0.072995\n",
      "2  0.786499  0.631667  0.110123  0.645436\n",
      "          0         1         2\n",
      "0  0.619833  0.061046  0.786499\n",
      "1  0.650228  0.323581  0.631667\n",
      "2  0.980229  0.909017  0.110123\n",
      "3  0.878076  0.072995  0.645436\n"
     ]
    }
   ],
   "source": [
    "# data frame from series:\n",
    "\n",
    "s1 = pd.Series(np.random.rand(4))\n",
    "s2 = pd.Series(np.random.rand(4))\n",
    "s3 = pd.Series(np.random.rand(4))\n",
    "\n",
    "df = pd.DataFrame([s1, s2, s3])\n",
    "print(df)\n",
    "\n",
    "df = df.T\n",
    "print(df)"
   ]
  },
  {
   "cell_type": "code",
   "execution_count": 5,
   "metadata": {},
   "outputs": [
    {
     "data": {
      "text/html": [
       "<div>\n",
       "<style scoped>\n",
       "    .dataframe tbody tr th:only-of-type {\n",
       "        vertical-align: middle;\n",
       "    }\n",
       "\n",
       "    .dataframe tbody tr th {\n",
       "        vertical-align: top;\n",
       "    }\n",
       "\n",
       "    .dataframe thead th {\n",
       "        text-align: right;\n",
       "    }\n",
       "</style>\n",
       "<table border=\"1\" class=\"dataframe\">\n",
       "  <thead>\n",
       "    <tr style=\"text-align: right;\">\n",
       "      <th></th>\n",
       "      <th>col1</th>\n",
       "      <th>col2</th>\n",
       "      <th>col3</th>\n",
       "    </tr>\n",
       "  </thead>\n",
       "  <tbody>\n",
       "    <tr>\n",
       "      <th>0</th>\n",
       "      <td>0.619833</td>\n",
       "      <td>0.061046</td>\n",
       "      <td>0.786499</td>\n",
       "    </tr>\n",
       "    <tr>\n",
       "      <th>1</th>\n",
       "      <td>0.650228</td>\n",
       "      <td>0.323581</td>\n",
       "      <td>0.631667</td>\n",
       "    </tr>\n",
       "    <tr>\n",
       "      <th>2</th>\n",
       "      <td>0.980229</td>\n",
       "      <td>0.909017</td>\n",
       "      <td>0.110123</td>\n",
       "    </tr>\n",
       "    <tr>\n",
       "      <th>3</th>\n",
       "      <td>0.878076</td>\n",
       "      <td>0.072995</td>\n",
       "      <td>0.645436</td>\n",
       "    </tr>\n",
       "  </tbody>\n",
       "</table>\n",
       "</div>"
      ],
      "text/plain": [
       "       col1      col2      col3\n",
       "0  0.619833  0.061046  0.786499\n",
       "1  0.650228  0.323581  0.631667\n",
       "2  0.980229  0.909017  0.110123\n",
       "3  0.878076  0.072995  0.645436"
      ]
     },
     "execution_count": 5,
     "metadata": {},
     "output_type": "execute_result"
    }
   ],
   "source": [
    "# changing names of columns:\n",
    "\n",
    "df.columns = [\"col1\", \"col2\", \"col3\"]\n",
    "df"
   ]
  },
  {
   "cell_type": "code",
   "execution_count": 6,
   "metadata": {},
   "outputs": [
    {
     "name": "stdout",
     "output_type": "stream",
     "text": [
      "            Name    Universe       spidyName  Weight\n",
      "0   Peter Parker   Earth 616       spiderman      75\n",
      "1     Gwen Stacy    Earth 65     spiderwoman      66\n",
      "2  Miles Morales  Earth 1610         Anomaly      64\n",
      "3  Miguel O'Hara  Earth 2099  vampire-spider     115 \n",
      "\n",
      "            Name    Universe       spidyName  Weight      power\n",
      "0   Peter Parker   Earth 616       spiderman      75        NaN\n",
      "1     Gwen Stacy    Earth 65     spiderwoman      66       Cool\n",
      "2  Miles Morales  Earth 1610         Anomaly      64  Invisible\n",
      "3  Miguel O'Hara  Earth 2099  vampire-spider     115      claws\n"
     ]
    },
    {
     "data": {
      "text/html": [
       "<div>\n",
       "<style scoped>\n",
       "    .dataframe tbody tr th:only-of-type {\n",
       "        vertical-align: middle;\n",
       "    }\n",
       "\n",
       "    .dataframe tbody tr th {\n",
       "        vertical-align: top;\n",
       "    }\n",
       "\n",
       "    .dataframe thead th {\n",
       "        text-align: right;\n",
       "    }\n",
       "</style>\n",
       "<table border=\"1\" class=\"dataframe\">\n",
       "  <thead>\n",
       "    <tr style=\"text-align: right;\">\n",
       "      <th></th>\n",
       "      <th>Name</th>\n",
       "      <th>Universe</th>\n",
       "      <th>spidyName</th>\n",
       "      <th>Weight</th>\n",
       "    </tr>\n",
       "  </thead>\n",
       "  <tbody>\n",
       "    <tr>\n",
       "      <th>0</th>\n",
       "      <td>Peter Parker</td>\n",
       "      <td>Earth 616</td>\n",
       "      <td>spiderman</td>\n",
       "      <td>75</td>\n",
       "    </tr>\n",
       "    <tr>\n",
       "      <th>1</th>\n",
       "      <td>Gwen Stacy</td>\n",
       "      <td>Earth 65</td>\n",
       "      <td>spiderwoman</td>\n",
       "      <td>66</td>\n",
       "    </tr>\n",
       "    <tr>\n",
       "      <th>2</th>\n",
       "      <td>Miles Morales</td>\n",
       "      <td>Earth 1610</td>\n",
       "      <td>Anomaly</td>\n",
       "      <td>64</td>\n",
       "    </tr>\n",
       "    <tr>\n",
       "      <th>3</th>\n",
       "      <td>Miguel O'Hara</td>\n",
       "      <td>Earth 2099</td>\n",
       "      <td>vampire-spider</td>\n",
       "      <td>115</td>\n",
       "    </tr>\n",
       "  </tbody>\n",
       "</table>\n",
       "</div>"
      ],
      "text/plain": [
       "            Name    Universe       spidyName  Weight\n",
       "0   Peter Parker   Earth 616       spiderman      75\n",
       "1     Gwen Stacy    Earth 65     spiderwoman      66\n",
       "2  Miles Morales  Earth 1610         Anomaly      64\n",
       "3  Miguel O'Hara  Earth 2099  vampire-spider     115"
      ]
     },
     "execution_count": 6,
     "metadata": {},
     "output_type": "execute_result"
    }
   ],
   "source": [
    "# creating df from dictionary:\n",
    "\n",
    "dict = {\"Name\" : [\"Peter Parker\", \"Gwen Stacy\", \"Miles Morales\", \"Miguel O'Hara\"],\n",
    "        \"Universe\": [\"Earth 616\", 'Earth 65', 'Earth 1610', 'Earth 2099'],\n",
    "        \"spidyName\": ['spiderman', 'spiderwoman', 'Anomaly', 'vampire-spider'],\n",
    "        \"Weight\": [75, 66, 64, 115]}\n",
    "\n",
    "spidy = pd.DataFrame(dict)\n",
    "print(spidy,\"\\n\")\n",
    "\n",
    "# adding a column:\n",
    "spidy['power'] = [np.nan, 'Cool', 'Invisible', 'claws']\n",
    "print(spidy)\n",
    "\n",
    "# dropping a column:\n",
    "spidy = spidy.drop(['power'], axis=1) # axis=1 -> col, axis=0 -> row\n",
    "spidy \n"
   ]
  },
  {
   "cell_type": "code",
   "execution_count": 7,
   "metadata": {},
   "outputs": [
    {
     "name": "stdout",
     "output_type": "stream",
     "text": [
      "            Name    Universe\n",
      "0   Peter Parker   Earth 616\n",
      "1     Gwen Stacy    Earth 65\n",
      "2  Miles Morales  Earth 1610 \n",
      "\n",
      "     spidyName  Weight\n",
      "1  spiderwoman      66\n",
      "2      Anomaly      64\n"
     ]
    }
   ],
   "source": [
    "# Location (loc) & Index location (iloc) ---> Syntax = loc[:,:], iloc[:,:]\n",
    "\n",
    "print(spidy.loc[0:2,'Name':'Universe'], \"\\n\")\n",
    "\n",
    "print(spidy.iloc[1:3,2:])\n"
   ]
  },
  {
   "cell_type": "code",
   "execution_count": 8,
   "metadata": {},
   "outputs": [
    {
     "data": {
      "text/html": [
       "<div>\n",
       "<style scoped>\n",
       "    .dataframe tbody tr th:only-of-type {\n",
       "        vertical-align: middle;\n",
       "    }\n",
       "\n",
       "    .dataframe tbody tr th {\n",
       "        vertical-align: top;\n",
       "    }\n",
       "\n",
       "    .dataframe thead th {\n",
       "        text-align: right;\n",
       "    }\n",
       "</style>\n",
       "<table border=\"1\" class=\"dataframe\">\n",
       "  <thead>\n",
       "    <tr style=\"text-align: right;\">\n",
       "      <th></th>\n",
       "      <th>Name</th>\n",
       "      <th>Universe</th>\n",
       "      <th>spidyName</th>\n",
       "      <th>Weight</th>\n",
       "    </tr>\n",
       "  </thead>\n",
       "  <tbody>\n",
       "    <tr>\n",
       "      <th>0</th>\n",
       "      <td>Peter Parker</td>\n",
       "      <td>Earth 616</td>\n",
       "      <td>spiderman</td>\n",
       "      <td>75</td>\n",
       "    </tr>\n",
       "    <tr>\n",
       "      <th>1</th>\n",
       "      <td>Gwen Stacy</td>\n",
       "      <td>Earth 65</td>\n",
       "      <td>spiderwoman</td>\n",
       "      <td>66</td>\n",
       "    </tr>\n",
       "    <tr>\n",
       "      <th>2</th>\n",
       "      <td>Miles Morales</td>\n",
       "      <td>Earth 1610</td>\n",
       "      <td>Anomaly</td>\n",
       "      <td>64</td>\n",
       "    </tr>\n",
       "    <tr>\n",
       "      <th>3</th>\n",
       "      <td>Miguel O'Hara</td>\n",
       "      <td>Earth 2099</td>\n",
       "      <td>vampire-spider</td>\n",
       "      <td>115</td>\n",
       "    </tr>\n",
       "    <tr>\n",
       "      <th>4</th>\n",
       "      <td>Pavitr</td>\n",
       "      <td>Mubbatan</td>\n",
       "      <td>Spidy-India</td>\n",
       "      <td>75</td>\n",
       "    </tr>\n",
       "  </tbody>\n",
       "</table>\n",
       "</div>"
      ],
      "text/plain": [
       "            Name    Universe       spidyName  Weight\n",
       "0   Peter Parker   Earth 616       spiderman      75\n",
       "1     Gwen Stacy    Earth 65     spiderwoman      66\n",
       "2  Miles Morales  Earth 1610         Anomaly      64\n",
       "3  Miguel O'Hara  Earth 2099  vampire-spider     115\n",
       "4         Pavitr    Mubbatan     Spidy-India      75"
      ]
     },
     "execution_count": 8,
     "metadata": {},
     "output_type": "execute_result"
    }
   ],
   "source": [
    "# adding a row with loc:\n",
    "\n",
    "spidy.loc[4] = ['Pavitr', 'Mubbatan', 'Spidy-India', 75]\n",
    "spidy"
   ]
  },
  {
   "cell_type": "code",
   "execution_count": 9,
   "metadata": {},
   "outputs": [
    {
     "name": "stdout",
     "output_type": "stream",
     "text": [
      "    Name  Universe  spidyName  Weight\n",
      "0  False     False      False   False\n",
      "1  False     False      False   False\n",
      "2  False     False      False   False\n",
      "3  False     False      False   False\n",
      "4  False     False      False   False\n",
      "Name         0\n",
      "Universe     0\n",
      "spidyName    0\n",
      "Weight       0\n",
      "dtype: int64\n"
     ]
    }
   ],
   "source": [
    "# finding null values:\n",
    "print(spidy.isnull())\n",
    "\n",
    "print(spidy.isnull().sum())\n"
   ]
  },
  {
   "cell_type": "code",
   "execution_count": 10,
   "metadata": {},
   "outputs": [
    {
     "name": "stdout",
     "output_type": "stream",
     "text": [
      "0     Peter Parker\n",
      "1       Gwen Stacy\n",
      "2    Miles Morales\n",
      "3    Miguel O'Hara\n",
      "4           Pavitr\n",
      "Name: Name, dtype: object\n",
      "object\n"
     ]
    }
   ],
   "source": [
    "# calling a specific column:\n",
    "print(spidy['Name'])\n",
    "\n",
    "print(spidy['Name'].dtype)\n"
   ]
  },
  {
   "cell_type": "code",
   "execution_count": 11,
   "metadata": {},
   "outputs": [
    {
     "name": "stdout",
     "output_type": "stream",
     "text": [
      "<class 'pandas.core.frame.DataFrame'>\n",
      "Int64Index: 5 entries, 0 to 4\n",
      "Data columns (total 4 columns):\n",
      " #   Column     Non-Null Count  Dtype \n",
      "---  ------     --------------  ----- \n",
      " 0   Name       5 non-null      object\n",
      " 1   Universe   5 non-null      object\n",
      " 2   spidyName  5 non-null      object\n",
      " 3   Weight     5 non-null      int64 \n",
      "dtypes: int64(1), object(3)\n",
      "memory usage: 200.0+ bytes\n"
     ]
    }
   ],
   "source": [
    "# info:\n",
    "spidy.info()"
   ]
  },
  {
   "cell_type": "code",
   "execution_count": 12,
   "metadata": {},
   "outputs": [
    {
     "data": {
      "text/html": [
       "<div>\n",
       "<style scoped>\n",
       "    .dataframe tbody tr th:only-of-type {\n",
       "        vertical-align: middle;\n",
       "    }\n",
       "\n",
       "    .dataframe tbody tr th {\n",
       "        vertical-align: top;\n",
       "    }\n",
       "\n",
       "    .dataframe thead th {\n",
       "        text-align: right;\n",
       "    }\n",
       "</style>\n",
       "<table border=\"1\" class=\"dataframe\">\n",
       "  <thead>\n",
       "    <tr style=\"text-align: right;\">\n",
       "      <th></th>\n",
       "      <th>Weight</th>\n",
       "    </tr>\n",
       "  </thead>\n",
       "  <tbody>\n",
       "    <tr>\n",
       "      <th>count</th>\n",
       "      <td>5.000000</td>\n",
       "    </tr>\n",
       "    <tr>\n",
       "      <th>mean</th>\n",
       "      <td>79.000000</td>\n",
       "    </tr>\n",
       "    <tr>\n",
       "      <th>std</th>\n",
       "      <td>20.748494</td>\n",
       "    </tr>\n",
       "    <tr>\n",
       "      <th>min</th>\n",
       "      <td>64.000000</td>\n",
       "    </tr>\n",
       "    <tr>\n",
       "      <th>25%</th>\n",
       "      <td>66.000000</td>\n",
       "    </tr>\n",
       "    <tr>\n",
       "      <th>50%</th>\n",
       "      <td>75.000000</td>\n",
       "    </tr>\n",
       "    <tr>\n",
       "      <th>75%</th>\n",
       "      <td>75.000000</td>\n",
       "    </tr>\n",
       "    <tr>\n",
       "      <th>max</th>\n",
       "      <td>115.000000</td>\n",
       "    </tr>\n",
       "  </tbody>\n",
       "</table>\n",
       "</div>"
      ],
      "text/plain": [
       "           Weight\n",
       "count    5.000000\n",
       "mean    79.000000\n",
       "std     20.748494\n",
       "min     64.000000\n",
       "25%     66.000000\n",
       "50%     75.000000\n",
       "75%     75.000000\n",
       "max    115.000000"
      ]
     },
     "execution_count": 12,
     "metadata": {},
     "output_type": "execute_result"
    }
   ],
   "source": [
    "# describe:\n",
    "spidy.describe()"
   ]
  },
  {
   "cell_type": "code",
   "execution_count": 13,
   "metadata": {},
   "outputs": [
    {
     "data": {
      "text/html": [
       "<div>\n",
       "<style scoped>\n",
       "    .dataframe tbody tr th:only-of-type {\n",
       "        vertical-align: middle;\n",
       "    }\n",
       "\n",
       "    .dataframe tbody tr th {\n",
       "        vertical-align: top;\n",
       "    }\n",
       "\n",
       "    .dataframe thead th {\n",
       "        text-align: right;\n",
       "    }\n",
       "</style>\n",
       "<table border=\"1\" class=\"dataframe\">\n",
       "  <thead>\n",
       "    <tr style=\"text-align: right;\">\n",
       "      <th></th>\n",
       "      <th>Name</th>\n",
       "      <th>Universe</th>\n",
       "      <th>spidyName</th>\n",
       "      <th>Weight</th>\n",
       "    </tr>\n",
       "  </thead>\n",
       "  <tbody>\n",
       "    <tr>\n",
       "      <th>count</th>\n",
       "      <td>5</td>\n",
       "      <td>5</td>\n",
       "      <td>5</td>\n",
       "      <td>5.000000</td>\n",
       "    </tr>\n",
       "    <tr>\n",
       "      <th>unique</th>\n",
       "      <td>5</td>\n",
       "      <td>5</td>\n",
       "      <td>5</td>\n",
       "      <td>NaN</td>\n",
       "    </tr>\n",
       "    <tr>\n",
       "      <th>top</th>\n",
       "      <td>Peter Parker</td>\n",
       "      <td>Earth 616</td>\n",
       "      <td>spiderman</td>\n",
       "      <td>NaN</td>\n",
       "    </tr>\n",
       "    <tr>\n",
       "      <th>freq</th>\n",
       "      <td>1</td>\n",
       "      <td>1</td>\n",
       "      <td>1</td>\n",
       "      <td>NaN</td>\n",
       "    </tr>\n",
       "    <tr>\n",
       "      <th>mean</th>\n",
       "      <td>NaN</td>\n",
       "      <td>NaN</td>\n",
       "      <td>NaN</td>\n",
       "      <td>79.000000</td>\n",
       "    </tr>\n",
       "    <tr>\n",
       "      <th>std</th>\n",
       "      <td>NaN</td>\n",
       "      <td>NaN</td>\n",
       "      <td>NaN</td>\n",
       "      <td>20.748494</td>\n",
       "    </tr>\n",
       "    <tr>\n",
       "      <th>min</th>\n",
       "      <td>NaN</td>\n",
       "      <td>NaN</td>\n",
       "      <td>NaN</td>\n",
       "      <td>64.000000</td>\n",
       "    </tr>\n",
       "    <tr>\n",
       "      <th>25%</th>\n",
       "      <td>NaN</td>\n",
       "      <td>NaN</td>\n",
       "      <td>NaN</td>\n",
       "      <td>66.000000</td>\n",
       "    </tr>\n",
       "    <tr>\n",
       "      <th>50%</th>\n",
       "      <td>NaN</td>\n",
       "      <td>NaN</td>\n",
       "      <td>NaN</td>\n",
       "      <td>75.000000</td>\n",
       "    </tr>\n",
       "    <tr>\n",
       "      <th>75%</th>\n",
       "      <td>NaN</td>\n",
       "      <td>NaN</td>\n",
       "      <td>NaN</td>\n",
       "      <td>75.000000</td>\n",
       "    </tr>\n",
       "    <tr>\n",
       "      <th>max</th>\n",
       "      <td>NaN</td>\n",
       "      <td>NaN</td>\n",
       "      <td>NaN</td>\n",
       "      <td>115.000000</td>\n",
       "    </tr>\n",
       "  </tbody>\n",
       "</table>\n",
       "</div>"
      ],
      "text/plain": [
       "                Name   Universe  spidyName      Weight\n",
       "count              5          5          5    5.000000\n",
       "unique             5          5          5         NaN\n",
       "top     Peter Parker  Earth 616  spiderman         NaN\n",
       "freq               1          1          1         NaN\n",
       "mean             NaN        NaN        NaN   79.000000\n",
       "std              NaN        NaN        NaN   20.748494\n",
       "min              NaN        NaN        NaN   64.000000\n",
       "25%              NaN        NaN        NaN   66.000000\n",
       "50%              NaN        NaN        NaN   75.000000\n",
       "75%              NaN        NaN        NaN   75.000000\n",
       "max              NaN        NaN        NaN  115.000000"
      ]
     },
     "execution_count": 13,
     "metadata": {},
     "output_type": "execute_result"
    }
   ],
   "source": [
    "#describe all:\n",
    "spidy.describe(include='all')"
   ]
  }
 ],
 "metadata": {
  "kernelspec": {
   "display_name": "Python 3",
   "language": "python",
   "name": "python3"
  },
  "language_info": {
   "codemirror_mode": {
    "name": "ipython",
    "version": 3
   },
   "file_extension": ".py",
   "mimetype": "text/x-python",
   "name": "python",
   "nbconvert_exporter": "python",
   "pygments_lexer": "ipython3",
   "version": "3.10.6"
  },
  "orig_nbformat": 4
 },
 "nbformat": 4,
 "nbformat_minor": 2
}
